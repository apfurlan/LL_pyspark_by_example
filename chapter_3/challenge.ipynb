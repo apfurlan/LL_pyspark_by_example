{
 "cells": [
  {
   "cell_type": "markdown",
   "id": "9c96c0ed-e766-4da8-828e-f3962784da39",
   "metadata": {},
   "source": [
    "# **Challenge**\n",
    "\n",
    "## **Objectives**\n",
    "\n",
    "1. Find the percentage of reported crimes that resulted in an arrest\n",
    "2. Find the top 3 locations for reported crimes"
   ]
  },
  {
   "cell_type": "code",
   "execution_count": 1,
   "id": "ecaa49ab-2923-420c-b676-1cea91dafa89",
   "metadata": {},
   "outputs": [],
   "source": [
    "from pyspark import *\n",
    "from pyspark.sql.functions import *\n",
    "\n",
    "from pyspark.sql import SparkSession\n",
    "from pyspark.sql.functions import *"
   ]
  },
  {
   "cell_type": "code",
   "execution_count": 2,
   "id": "660d1ae1-3ffe-4fc3-bf8e-d76218f7befa",
   "metadata": {},
   "outputs": [],
   "source": [
    "spark = (\n",
    "    SparkSession\n",
    "    .builder\n",
    "    .getOrCreate()\n",
    ")"
   ]
  },
  {
   "cell_type": "code",
   "execution_count": 29,
   "id": "1f9b1e0a-3444-4444-9680-3a7ed5ceb5f2",
   "metadata": {},
   "outputs": [],
   "source": [
    "path = \"/home/jovyan/work/data/reported-crimes.csv\"\n",
    "\n",
    "rc = (\n",
    "    spark\n",
    "    .read\n",
    "    .csv(path,header=True)\n",
    "    .withColumn('Date',to_timestamp(col('Date'),'MM/dd/yyyy hh:mm:ss a'))\n",
    "    .filter(col('Date') <= lit('2018-11-11'))\n",
    ")"
   ]
  },
  {
   "cell_type": "markdown",
   "id": "316db537-2c15-4aad-bbbe-e623b9e26f59",
   "metadata": {},
   "source": [
    "### **Objective 1**"
   ]
  },
  {
   "cell_type": "code",
   "execution_count": 31,
   "id": "3819d472-3c24-49da-9d45-cab818ba1b1b",
   "metadata": {},
   "outputs": [
    {
     "name": "stdout",
     "output_type": "stream",
     "text": [
      "Percentage of crimes that resulted in Arrest is 22.02 %\n"
     ]
    }
   ],
   "source": [
    "perc_crimes = 100*rc.filter(col('Arrest') == 'true').count()/rc.count()\n",
    "\n",
    "print(\"Percentage of crimes that resulted in Arrest is\",'{:.2f}'.format(perc_crimes),\"%\")"
   ]
  },
  {
   "cell_type": "markdown",
   "id": "f1151cff-2b01-4478-a0b3-31dc269c6de5",
   "metadata": {},
   "source": [
    "### **Objective 2**"
   ]
  },
  {
   "cell_type": "code",
   "execution_count": 35,
   "id": "8536e40b-0903-4099-a6ec-ca89ebc7efe7",
   "metadata": {},
   "outputs": [
    {
     "name": "stdout",
     "output_type": "stream",
     "text": [
      "+--------------------+-----+\n",
      "|Location Description|count|\n",
      "+--------------------+-----+\n",
      "|              STREET|72954|\n",
      "|           RESIDENCE|53877|\n",
      "|           APARTMENT|43132|\n",
      "+--------------------+-----+\n",
      "only showing top 3 rows\n",
      "\n"
     ]
    }
   ],
   "source": [
    "rc.groupBy(\"Location Description\").count().orderBy('count',ascending=False).show(3)\n",
    "#rc.select('Location').distinct().count()"
   ]
  }
 ],
 "metadata": {
  "kernelspec": {
   "display_name": "Python 3 (ipykernel)",
   "language": "python",
   "name": "python3"
  },
  "language_info": {
   "codemirror_mode": {
    "name": "ipython",
    "version": 3
   },
   "file_extension": ".py",
   "mimetype": "text/x-python",
   "name": "python",
   "nbconvert_exporter": "python",
   "pygments_lexer": "ipython3",
   "version": "3.10.6"
  }
 },
 "nbformat": 4,
 "nbformat_minor": 5
}

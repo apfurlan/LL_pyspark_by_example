{
 "cells": [
  {
   "cell_type": "markdown",
   "id": "9a7d2d71-cc6c-4dfb-91f9-694e8374f50d",
   "metadata": {},
   "source": [
    "# **Working with RDDs (Resilient Distributed Datasets)**"
   ]
  },
  {
   "cell_type": "code",
   "execution_count": 1,
   "id": "8911027c-c62a-46bf-bf8a-b8665203c743",
   "metadata": {},
   "outputs": [],
   "source": [
    "from pyspark import *\n",
    "from pyspark.sql.functions import *\n",
    "\n",
    "from pyspark.sql import SparkSession\n",
    "from pyspark.sql.functions import *"
   ]
  },
  {
   "cell_type": "code",
   "execution_count": 3,
   "id": "6734e2a4-46ac-4c2b-8e02-a9fd18e011a0",
   "metadata": {},
   "outputs": [],
   "source": [
    "sc = (\n",
    "    SparkContext\n",
    "    .getOrCreate()\n",
    ")\n",
    "\n",
    "spark = (\n",
    "    SparkSession\n",
    "    .builder\n",
    "    .getOrCreate()\n",
    ")"
   ]
  },
  {
   "cell_type": "code",
   "execution_count": 6,
   "id": "7e31848e-44de-4314-8b4b-c42c9ca8b7fa",
   "metadata": {},
   "outputs": [
    {
     "data": {
      "text/plain": [
       "'DISTRICT,DISTRICT NAME,ADDRESS,CITY,STATE,ZIP,WEBSITE,PHONE,FAX,TTY,X COORDINATE,Y COORDINATE,LATITUDE,LONGITUDE,LOCATION'"
      ]
     },
     "execution_count": 6,
     "metadata": {},
     "output_type": "execute_result"
    }
   ],
   "source": [
    "psrdd = sc.textFile('/home/jovyan/work/data/police-station.csv')\n",
    "psrdd.first()"
   ]
  },
  {
   "cell_type": "code",
   "execution_count": 7,
   "id": "ca29be6f-662f-44ea-8105-c2ca1cc2e8af",
   "metadata": {},
   "outputs": [],
   "source": [
    "ps_header = psrdd.first()"
   ]
  },
  {
   "cell_type": "code",
   "execution_count": 9,
   "id": "e01aa9dd-9ea3-4a44-b2a7-854314385ba5",
   "metadata": {},
   "outputs": [
    {
     "data": {
      "text/plain": [
       "'Headquarters,Headquarters,3510 S Michigan Ave,Chicago,IL,60653,http://home.chicagopolice.org,,,,1177731.401,1881697.404,41.83070169,-87.62339535,\"(41.8307016873, -87.6233953459)\"'"
      ]
     },
     "execution_count": 9,
     "metadata": {},
     "output_type": "execute_result"
    }
   ],
   "source": [
    "ps_rest = psrdd.filter(lambda line: line != ps_header)\n",
    "ps_rest.first()"
   ]
  },
  {
   "cell_type": "markdown",
   "id": "eab4f09a-48cd-40cd-b04a-b97049dec02e",
   "metadata": {},
   "source": [
    "### **How many police stations are there ?**"
   ]
  },
  {
   "cell_type": "code",
   "execution_count": 11,
   "id": "d92d335b-100d-4b9f-9d18-0eebfe371baf",
   "metadata": {},
   "outputs": [
    {
     "data": {
      "text/plain": [
       "24"
      ]
     },
     "execution_count": 11,
     "metadata": {},
     "output_type": "execute_result"
    }
   ],
   "source": [
    "ps_rest.map(lambda line: line.split(',')).count()"
   ]
  },
  {
   "cell_type": "markdown",
   "id": "60f4cce5-fe16-439b-9dfc-4e765639e889",
   "metadata": {},
   "source": [
    "### **Display the District ID, District name, Adress and Zip for the police station with District ID 7**"
   ]
  },
  {
   "cell_type": "code",
   "execution_count": 12,
   "id": "d799ab23-b992-4911-9b5b-e6155f57fbd7",
   "metadata": {},
   "outputs": [
    {
     "data": {
      "text/plain": [
       "[('7', 'Englewood', '1438 W 63rd St', '60636')]"
      ]
     },
     "execution_count": 12,
     "metadata": {},
     "output_type": "execute_result"
    }
   ],
   "source": [
    "(\n",
    "    ps_rest\n",
    "    .filter(lambda line: line.split(',')[0] == '7')\n",
    "    .map(lambda line: (line.split(',')[0],\n",
    "                       line.split(',')[1],\n",
    "                       line.split(',')[2],\n",
    "                       line.split(',')[5]\n",
    "                      )).collect()\n",
    ")"
   ]
  },
  {
   "cell_type": "markdown",
   "id": "ca217059-8fbf-4ed3-b8da-9430878e68b9",
   "metadata": {},
   "source": [
    "### **Police stations 10 and 11 are geographically close to each other. Display the District ID, District name, address and zip code**"
   ]
  },
  {
   "cell_type": "code",
   "execution_count": 13,
   "id": "b7134f24-1393-4434-a94c-749b61408ab0",
   "metadata": {},
   "outputs": [
    {
     "data": {
      "text/plain": [
       "[('Ogden', '3315 W Ogden Ave', '60623'),\n",
       " ('Harrison', '3151 W Harrison St', '60612')]"
      ]
     },
     "execution_count": 13,
     "metadata": {},
     "output_type": "execute_result"
    }
   ],
   "source": [
    "(\n",
    "    ps_rest\n",
    "    .filter(lambda line: line.split(',')[0] in ['10','11'])\n",
    "    .map(lambda line : (line.split(',')[1],\n",
    "                        line.split(',')[2],\n",
    "                        line.split(',')[5],\n",
    "                       )).collect()\n",
    ")"
   ]
  }
 ],
 "metadata": {
  "kernelspec": {
   "display_name": "Python 3 (ipykernel)",
   "language": "python",
   "name": "python3"
  },
  "language_info": {
   "codemirror_mode": {
    "name": "ipython",
    "version": 3
   },
   "file_extension": ".py",
   "mimetype": "text/x-python",
   "name": "python",
   "nbconvert_exporter": "python",
   "pygments_lexer": "ipython3",
   "version": "3.10.6"
  }
 },
 "nbformat": 4,
 "nbformat_minor": 5
}

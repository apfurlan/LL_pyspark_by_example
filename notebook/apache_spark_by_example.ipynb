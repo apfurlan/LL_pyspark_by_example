{
 "cells": [
  {
   "cell_type": "markdown",
   "id": "85fade6f-243e-4eda-8a64-ad357df2e1df",
   "metadata": {
    "tags": []
   },
   "source": [
    "### Importações"
   ]
  },
  {
   "cell_type": "code",
   "execution_count": 1,
   "id": "18c9ecaa",
   "metadata": {
    "id": "18c9ecaa",
    "scrolled": true
   },
   "outputs": [],
   "source": [
    "from pyspark.sql import SparkSession"
   ]
  },
  {
   "cell_type": "code",
   "execution_count": 2,
   "id": "70f007cc-9319-4e8b-a115-50b223791d9b",
   "metadata": {},
   "outputs": [],
   "source": [
    "def read_sql_query(query):\n",
    "    return (\n",
    "        spark.read\n",
    "        .format(\"jdbc\")\n",
    "        .option(\"url\", \"jdbc:oracle:thin:@//oraclescanhmd03.hmaterdei.com.br:1521/preprdb\")\n",
    "        .option(\"query\", query)\n",
    "        .option(\"user\", \"dbahmd\")\n",
    "        .option(\"password\", \"dbahmd\")\n",
    "        .option(\"driver\", \"oracle.jdbc.driver.OracleDriver\")\n",
    "        .load()\n",
    "    )"
   ]
  },
  {
   "cell_type": "code",
   "execution_count": 3,
   "id": "60f5b4a1-7701-4a98-aff4-6cea8712059d",
   "metadata": {},
   "outputs": [],
   "source": [
    "spark = (\n",
    "    SparkSession\n",
    "    .builder\n",
    "    .appName(\"Database Connect\")\n",
    "    .config(\"spark.jars\", r\"/usr/local/jars/ojdbc8.jar\")\n",
    "    .getOrCreate()\n",
    ")"
   ]
  },
  {
   "cell_type": "code",
   "execution_count": 4,
   "id": "d080ea20-a241-4d06-8bab-10caf5757784",
   "metadata": {},
   "outputs": [],
   "source": [
    "query = '''\n",
    "SELECT COUNT(*)\n",
    "FROM DBAMV.UNID_INT\n",
    "'''"
   ]
  },
  {
   "cell_type": "code",
   "execution_count": 5,
   "id": "a633d3d4-f65c-4f25-a3f0-6e12572e5982",
   "metadata": {
    "id": "a633d3d4-f65c-4f25-a3f0-6e12572e5982"
   },
   "outputs": [
    {
     "name": "stdout",
     "output_type": "stream",
     "text": [
      "+-------------+\n",
      "|     COUNT(*)|\n",
      "+-------------+\n",
      "|89.0000000000|\n",
      "+-------------+\n",
      "\n"
     ]
    }
   ],
   "source": [
    "df = read_sql_query(query)\n",
    "df.show()"
   ]
  }
 ],
 "metadata": {
  "colab": {
   "name": "ocupacao_Landing.ipynb",
   "provenance": []
  },
  "kernelspec": {
   "display_name": "Python 3 (ipykernel)",
   "language": "python",
   "name": "python3"
  },
  "language_info": {
   "codemirror_mode": {
    "name": "ipython",
    "version": 3
   },
   "file_extension": ".py",
   "mimetype": "text/x-python",
   "name": "python",
   "nbconvert_exporter": "python",
   "pygments_lexer": "ipython3",
   "version": "3.9.10"
  }
 },
 "nbformat": 4,
 "nbformat_minor": 5
}

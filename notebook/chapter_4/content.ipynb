{
 "cells": [
  {
   "cell_type": "markdown",
   "id": "e551fc52-28ef-4745-9f40-56cf686c01b7",
   "metadata": {},
   "source": [
    "# **Functions**"
   ]
  },
  {
   "cell_type": "code",
   "execution_count": 5,
   "id": "7ddd7c2b-465b-47f2-a2aa-e709a8504260",
   "metadata": {},
   "outputs": [],
   "source": [
    "from pyspark import *\n",
    "from pyspark.sql.functions import *\n",
    "\n",
    "from pyspark.sql import SparkSession\n",
    "from pyspark.sql.functions import *"
   ]
  },
  {
   "cell_type": "code",
   "execution_count": 6,
   "id": "60aa84f5-61e7-4759-9f27-ee1b36071b24",
   "metadata": {},
   "outputs": [],
   "source": [
    "spark = (\n",
    "    SparkSession\n",
    "    .builder\n",
    "    .getOrCreate()\n",
    ")"
   ]
  },
  {
   "cell_type": "code",
   "execution_count": 7,
   "id": "20d2e23f-e7ba-4583-8432-8cd0593eea8f",
   "metadata": {},
   "outputs": [],
   "source": [
    "path = \"/home/jovyan/work/data/reported-crimes.csv\"\n",
    "\n",
    "rc = (\n",
    "    spark\n",
    "    .read\n",
    "    .csv(path,header=True)\n",
    "    .withColumn('Date',to_timestamp(col('Date'),'MM/dd/yyyy hh:mm:ss a'))\n",
    "    .filter(col('Date') < lit('2018-11-12'))\n",
    ")"
   ]
  },
  {
   "cell_type": "markdown",
   "id": "bbe9da3a-44ae-49c6-9755-0a3b3543beea",
   "metadata": {},
   "source": [
    "## **Built-in Functions**"
   ]
  },
  {
   "cell_type": "code",
   "execution_count": 8,
   "id": "232ab664-3d61-40c9-a4b0-631c01913b09",
   "metadata": {},
   "outputs": [
    {
     "name": "stdout",
     "output_type": "stream",
     "text": [
      "['Any', 'ArrayType', 'Callable', 'Column', 'DataFrame', 'DataType', 'Dict', 'Iterable', 'List', 'Optional', 'PandasUDFType', 'PythonEvalType', 'SparkContext', 'StringType', 'StructType', 'TYPE_CHECKING', 'Tuple', 'Union', 'UserDefinedFunction', 'ValuesView', '__builtins__', '__cached__', '__doc__', '__file__', '__loader__', '__name__', '__package__', '__spec__', '_create_column_from_literal', '_create_lambda', '_create_udf', '_get_jvm_function', '_get_lambda_parameters', '_invoke_binary_math_function', '_invoke_function', '_invoke_function_over_columns', '_invoke_function_over_seq_of_columns', '_invoke_higher_order_function', '_options_to_str', '_test', '_to_java_column', '_to_seq', '_unresolved_named_lambda_variable', 'abs', 'acos', 'acosh', 'add_months', 'aggregate', 'approxCountDistinct', 'approx_count_distinct', 'array', 'array_contains', 'array_distinct', 'array_except', 'array_intersect', 'array_join', 'array_max', 'array_min', 'array_position', 'array_remove', 'array_repeat', 'array_sort', 'array_union', 'arrays_overlap', 'arrays_zip', 'asc', 'asc_nulls_first', 'asc_nulls_last', 'ascii', 'asin', 'asinh', 'assert_true', 'atan', 'atan2', 'atanh', 'avg', 'base64', 'bin', 'bit_length', 'bitwiseNOT', 'bitwise_not', 'broadcast', 'bround', 'bucket', 'cast', 'cbrt', 'ceil', 'coalesce', 'col', 'collect_list', 'collect_set', 'column', 'concat', 'concat_ws', 'conv', 'corr', 'cos', 'cosh', 'cot', 'count', 'countDistinct', 'count_distinct', 'covar_pop', 'covar_samp', 'crc32', 'create_map', 'csc', 'cume_dist', 'current_date', 'current_timestamp', 'date_add', 'date_format', 'date_sub', 'date_trunc', 'datediff', 'dayofmonth', 'dayofweek', 'dayofyear', 'days', 'decode', 'degrees', 'dense_rank', 'desc', 'desc_nulls_first', 'desc_nulls_last', 'element_at', 'encode', 'exists', 'exp', 'explode', 'explode_outer', 'expm1', 'expr', 'factorial', 'filter', 'first', 'flatten', 'floor', 'forall', 'format_number', 'format_string', 'from_csv', 'from_json', 'from_unixtime', 'from_utc_timestamp', 'functools', 'get_json_object', 'greatest', 'grouping', 'grouping_id', 'hash', 'hex', 'hour', 'hours', 'hypot', 'initcap', 'input_file_name', 'inspect', 'instr', 'isnan', 'isnull', 'json_tuple', 'kurtosis', 'lag', 'last', 'last_day', 'lead', 'least', 'length', 'levenshtein', 'lit', 'locate', 'log', 'log10', 'log1p', 'log2', 'lower', 'lpad', 'ltrim', 'make_date', 'map_concat', 'map_entries', 'map_filter', 'map_from_arrays', 'map_from_entries', 'map_keys', 'map_values', 'map_zip_with', 'max', 'max_by', 'md5', 'mean', 'min', 'min_by', 'minute', 'monotonically_increasing_id', 'month', 'months', 'months_between', 'nanvl', 'next_day', 'nth_value', 'ntile', 'octet_length', 'overlay', 'overload', 'pandas_udf', 'percent_rank', 'percentile_approx', 'posexplode', 'posexplode_outer', 'pow', 'product', 'quarter', 'radians', 'raise_error', 'rand', 'randn', 'rank', 'regexp_extract', 'regexp_replace', 'repeat', 'reverse', 'rint', 'round', 'row_number', 'rpad', 'rtrim', 'schema_of_csv', 'schema_of_json', 'sec', 'second', 'sentences', 'sequence', 'session_window', 'sha1', 'sha2', 'shiftLeft', 'shiftRight', 'shiftRightUnsigned', 'shiftleft', 'shiftright', 'shiftrightunsigned', 'shuffle', 'signum', 'sin', 'since', 'sinh', 'size', 'skewness', 'slice', 'sort_array', 'soundex', 'spark_partition_id', 'split', 'sqrt', 'stddev', 'stddev_pop', 'stddev_samp', 'struct', 'substring', 'substring_index', 'sum', 'sumDistinct', 'sum_distinct', 'sys', 'tan', 'tanh', 'timestamp_seconds', 'toDegrees', 'toRadians', 'to_csv', 'to_date', 'to_json', 'to_str', 'to_timestamp', 'to_utc_timestamp', 'transform', 'transform_keys', 'transform_values', 'translate', 'trim', 'trunc', 'udf', 'unbase64', 'unhex', 'unix_timestamp', 'upper', 'var_pop', 'var_samp', 'variance', 'warnings', 'weekofyear', 'when', 'window', 'xxhash64', 'year', 'years', 'zip_with']\n"
     ]
    }
   ],
   "source": [
    "from pyspark.sql import functions\n",
    "print(dir(functions))"
   ]
  },
  {
   "cell_type": "markdown",
   "id": "578b8acf-6253-4539-87fe-aa162d85e8a2",
   "metadata": {},
   "source": [
    "### **String Functions**"
   ]
  },
  {
   "cell_type": "markdown",
   "id": "7a1dee30-9b66-4796-be0a-a184c2285ed5",
   "metadata": {
    "tags": []
   },
   "source": [
    "### **Display the Primary Type column in lower and upper characters, and the first 4 characters of the column**"
   ]
  },
  {
   "cell_type": "code",
   "execution_count": 9,
   "id": "eef210ff-f784-4951-a9a8-f2d9e1b36b4b",
   "metadata": {},
   "outputs": [
    {
     "name": "stdout",
     "output_type": "stream",
     "text": [
      "Help on function substring in module pyspark.sql.functions:\n",
      "\n",
      "substring(str: 'ColumnOrName', pos: int, len: int) -> pyspark.sql.column.Column\n",
      "    Substring starts at `pos` and is of length `len` when str is String type or\n",
      "    returns the slice of byte array that starts at `pos` in byte and is of length `len`\n",
      "    when str is Binary type.\n",
      "    \n",
      "    .. versionadded:: 1.5.0\n",
      "    \n",
      "    Notes\n",
      "    -----\n",
      "    The position is not zero based, but 1 based index.\n",
      "    \n",
      "    Examples\n",
      "    --------\n",
      "    >>> df = spark.createDataFrame([('abcd',)], ['s',])\n",
      "    >>> df.select(substring(df.s, 1, 2).alias('s')).collect()\n",
      "    [Row(s='ab')]\n",
      "\n"
     ]
    }
   ],
   "source": [
    "help(substring)"
   ]
  },
  {
   "cell_type": "code",
   "execution_count": 10,
   "id": "f5369ab9-656a-4fb6-ac1e-cd4f988ded3d",
   "metadata": {},
   "outputs": [
    {
     "name": "stdout",
     "output_type": "stream",
     "text": [
      "root\n",
      " |-- ID: string (nullable = true)\n",
      " |-- Case Number: string (nullable = true)\n",
      " |-- Date: timestamp (nullable = true)\n",
      " |-- Block: string (nullable = true)\n",
      " |-- IUCR: string (nullable = true)\n",
      " |-- Primary Type: string (nullable = true)\n",
      " |-- Description: string (nullable = true)\n",
      " |-- Location Description: string (nullable = true)\n",
      " |-- Arrest: string (nullable = true)\n",
      " |-- Domestic: string (nullable = true)\n",
      " |-- Beat: string (nullable = true)\n",
      " |-- District: string (nullable = true)\n",
      " |-- Ward: string (nullable = true)\n",
      " |-- Community Area: string (nullable = true)\n",
      " |-- FBI Code: string (nullable = true)\n",
      " |-- X Coordinate: string (nullable = true)\n",
      " |-- Y Coordinate: string (nullable = true)\n",
      " |-- Year: string (nullable = true)\n",
      " |-- Updated On: string (nullable = true)\n",
      " |-- Latitude: string (nullable = true)\n",
      " |-- Longitude: string (nullable = true)\n",
      " |-- Location: string (nullable = true)\n",
      "\n"
     ]
    }
   ],
   "source": [
    "rc.printSchema()"
   ]
  },
  {
   "cell_type": "code",
   "execution_count": 11,
   "id": "f0ba35ca-1f65-4078-b952-a7f14d8e0506",
   "metadata": {},
   "outputs": [
    {
     "name": "stdout",
     "output_type": "stream",
     "text": [
      "+-------------------+-------------------+-----------------------------+\n",
      "|lower(Primary Type)|upper(Primary Type)|substring(Primary Type, 1, 4)|\n",
      "+-------------------+-------------------+-----------------------------+\n",
      "|            battery|            BATTERY|                         BATT|\n",
      "|              theft|              THEFT|                         THEF|\n",
      "|              theft|              THEFT|                         THEF|\n",
      "|          narcotics|          NARCOTICS|                         NARC|\n",
      "|            assault|            ASSAULT|                         ASSA|\n",
      "+-------------------+-------------------+-----------------------------+\n",
      "only showing top 5 rows\n",
      "\n"
     ]
    }
   ],
   "source": [
    "rc.select(lower(col('Primary Type')),upper(col('Primary Type')),substring(col('Primary Type'),1,4)).show(5)"
   ]
  },
  {
   "cell_type": "markdown",
   "id": "50ddf59c-f299-450a-8ddd-e55f960cabd6",
   "metadata": {},
   "source": [
    "### **Numeric Functions**"
   ]
  },
  {
   "cell_type": "markdown",
   "id": "9710bdef-cfd8-4ef8-84d9-8fc96abea0c2",
   "metadata": {},
   "source": [
    "### **Show the oldest date and the most recent date**"
   ]
  },
  {
   "cell_type": "code",
   "execution_count": 12,
   "id": "1bf45996-a1b5-4e78-9a30-20aa4598a908",
   "metadata": {},
   "outputs": [
    {
     "name": "stdout",
     "output_type": "stream",
     "text": [
      "+-------------------+-------------------+\n",
      "|          min(Date)|          max(Date)|\n",
      "+-------------------+-------------------+\n",
      "|2001-01-01 00:00:00|2018-11-11 14:00:00|\n",
      "+-------------------+-------------------+\n",
      "\n"
     ]
    }
   ],
   "source": [
    "rc.select(min(col('Date')),max(col('Date'))).show(1)"
   ]
  },
  {
   "cell_type": "markdown",
   "id": "37520845-5515-491f-b22c-30cd2ed8fe29",
   "metadata": {},
   "source": [
    "### **Date**"
   ]
  },
  {
   "cell_type": "markdown",
   "id": "07c41aa5-8f38-4a13-b31a-3cb7c82f8b47",
   "metadata": {},
   "source": [
    "### **What is the 3 days earlier than the oldest date and 3 days later than the most recent date ?**"
   ]
  },
  {
   "cell_type": "code",
   "execution_count": 13,
   "id": "615469a1-fcbc-43fe-a2b1-aaaddda97d8c",
   "metadata": {},
   "outputs": [
    {
     "name": "stdout",
     "output_type": "stream",
     "text": [
      "+----------------------+----------------------+\n",
      "|date_sub(min(Date), 3)|date_add(max(Date), 3)|\n",
      "+----------------------+----------------------+\n",
      "|            2000-12-29|            2018-11-14|\n",
      "+----------------------+----------------------+\n",
      "\n"
     ]
    }
   ],
   "source": [
    "rc.select(date_sub(min(col('Date')),3),date_add(max(col('Date')),3)).show()"
   ]
  },
  {
   "cell_type": "markdown",
   "id": "14c747d1-f50a-46e4-adf2-804f33102ecc",
   "metadata": {},
   "source": [
    "## **Working with dates**"
   ]
  },
  {
   "cell_type": "markdown",
   "id": "6a51023d-3dcc-4a2a-b2c3-d9d4a652acea",
   "metadata": {},
   "source": [
    "### **2019-12-25 13:30:00**"
   ]
  },
  {
   "cell_type": "code",
   "execution_count": 14,
   "id": "bb52ec96-aef4-4472-8116-2dd3f53da3a2",
   "metadata": {},
   "outputs": [
    {
     "name": "stdout",
     "output_type": "stream",
     "text": [
      "+-------------------+\n",
      "|          Christmas|\n",
      "+-------------------+\n",
      "|2019-12-25 13:30:00|\n",
      "+-------------------+\n",
      "\n"
     ]
    }
   ],
   "source": [
    "df = spark.createDataFrame([('2019-12-25 13:30:00',)],['Christmas'])\n",
    "df.show()"
   ]
  },
  {
   "cell_type": "code",
   "execution_count": 15,
   "id": "9820ef51-4961-4a20-be75-9442e5027c10",
   "metadata": {},
   "outputs": [
    {
     "name": "stdout",
     "output_type": "stream",
     "text": [
      "+---------------------------------------+--------------------------------------------+\n",
      "|to_date(Christmas, yyyy-MM-dd HH:mm:ss)|to_timestamp(Christmas, yyyy-MM-dd HH:mm:ss)|\n",
      "+---------------------------------------+--------------------------------------------+\n",
      "|                             2019-12-25|                         2019-12-25 13:30:00|\n",
      "+---------------------------------------+--------------------------------------------+\n",
      "\n"
     ]
    }
   ],
   "source": [
    "df.select(\n",
    "    to_date(col('Christmas'),'yyyy-MM-dd HH:mm:ss'), \n",
    "    to_timestamp(col('Christmas'),'yyyy-MM-dd HH:mm:ss')).show()"
   ]
  },
  {
   "cell_type": "markdown",
   "id": "468e2ce7-5c6b-4a07-98a1-04d1d9952258",
   "metadata": {},
   "source": [
    "### **25/Dec/2019 13:30:00**"
   ]
  },
  {
   "cell_type": "code",
   "execution_count": 16,
   "id": "a21f6713-387e-4771-aa91-b4a0a3acbc0c",
   "metadata": {},
   "outputs": [
    {
     "name": "stdout",
     "output_type": "stream",
     "text": [
      "+--------------------+\n",
      "|           Christmas|\n",
      "+--------------------+\n",
      "|25/Dec/2019 13:30:00|\n",
      "+--------------------+\n",
      "\n"
     ]
    }
   ],
   "source": [
    "df = spark.createDataFrame([('25/Dec/2019 13:30:00',)],['Christmas'])\n",
    "df.show()"
   ]
  },
  {
   "cell_type": "code",
   "execution_count": 17,
   "id": "d227725f-ab79-4d2f-a208-dfabfe6534f2",
   "metadata": {},
   "outputs": [
    {
     "name": "stdout",
     "output_type": "stream",
     "text": [
      "+----------------------------------------+---------------------------------------------+\n",
      "|to_date(Christmas, dd/MMM/yyyy HH:mm:ss)|to_timestamp(Christmas, dd/MMM/yyyy HH:mm:ss)|\n",
      "+----------------------------------------+---------------------------------------------+\n",
      "|                              2019-12-25|                          2019-12-25 13:30:00|\n",
      "+----------------------------------------+---------------------------------------------+\n",
      "\n"
     ]
    }
   ],
   "source": [
    "df.select(\n",
    "    to_date(col('Christmas'),'dd/MMM/yyyy HH:mm:ss'), \n",
    "    to_timestamp(col('Christmas'),'dd/MMM/yyyy HH:mm:ss')).show()"
   ]
  },
  {
   "cell_type": "markdown",
   "id": "42198712-1f44-427b-a6a5-995c20731a8a",
   "metadata": {},
   "source": [
    "### **12/25/2019 01:30:00 PM**"
   ]
  },
  {
   "cell_type": "code",
   "execution_count": 18,
   "id": "24f443b2-b4f7-4cdd-9f67-69b03c33324c",
   "metadata": {},
   "outputs": [
    {
     "name": "stdout",
     "output_type": "stream",
     "text": [
      "+----------------------+\n",
      "|Christmas             |\n",
      "+----------------------+\n",
      "|12/25/2019 13:30:00 PM|\n",
      "+----------------------+\n",
      "\n"
     ]
    }
   ],
   "source": [
    "df = spark.createDataFrame([('12/25/2019 13:30:00 PM',)],['Christmas'])\n",
    "df.show(truncate=False)"
   ]
  },
  {
   "cell_type": "code",
   "execution_count": 20,
   "id": "6afd44a5-29c5-4f03-b17e-c28fceda57a5",
   "metadata": {},
   "outputs": [
    {
     "name": "stdout",
     "output_type": "stream",
     "text": [
      "+-----------------------------------------+----------------------------------------------+\n",
      "|to_date(Christmas, MM/dd/yyyy hh:mm:ss a)|to_timestamp(Christmas, MM/dd/yyyy hh:mm:ss a)|\n",
      "+-----------------------------------------+----------------------------------------------+\n",
      "|                                     null|                                          null|\n",
      "+-----------------------------------------+----------------------------------------------+\n",
      "\n"
     ]
    }
   ],
   "source": [
    "df.select(\n",
    "    to_date(col('Christmas'),'MM/dd/yyyy hh:mm:ss a'), \n",
    "    to_timestamp(col('Christmas'),'MM/dd/yyyy hh:mm:ss a')).show()"
   ]
  },
  {
   "cell_type": "code",
   "execution_count": 21,
   "id": "cbf64b04-b8b6-4cd3-842b-804ca2e3eaf4",
   "metadata": {},
   "outputs": [],
   "source": [
    "path = \"/home/jovyan/work/data/reported-crimes.csv\"\n",
    "\n",
    "nrc = (\n",
    "    spark\n",
    "    .read\n",
    "    .csv(path,header=True)\n",
    ")"
   ]
  },
  {
   "cell_type": "code",
   "execution_count": 22,
   "id": "f20381f4-6062-4e98-a626-c5fe67487667",
   "metadata": {},
   "outputs": [
    {
     "name": "stdout",
     "output_type": "stream",
     "text": [
      "+--------+-----------+----------------------+-----------------------+----+------------------+----------------------------------------------+------------------------------+------+--------+----+--------+----+--------------+--------+------------+------------+----+----------------------+------------+-------------+-----------------------------+\n",
      "|ID      |Case Number|Date                  |Block                  |IUCR|Primary Type      |Description                                   |Location Description          |Arrest|Domestic|Beat|District|Ward|Community Area|FBI Code|X Coordinate|Y Coordinate|Year|Updated On            |Latitude    |Longitude    |Location                     |\n",
      "+--------+-----------+----------------------+-----------------------+----+------------------+----------------------------------------------+------------------------------+------+--------+----+--------+----+--------------+--------+------------+------------+----+----------------------+------------+-------------+-----------------------------+\n",
      "|10224738|HY411648   |09/05/2015 01:30:00 PM|043XX S WOOD ST        |0486|BATTERY           |DOMESTIC BATTERY SIMPLE                       |RESIDENCE                     |false |true    |0924|009     |12  |61            |08B     |1165074     |1875917     |2015|02/10/2018 03:50:01 PM|41.815117282|-87.669999562|(41.815117282, -87.669999562)|\n",
      "|10224739|HY411615   |09/04/2015 11:30:00 AM|008XX N CENTRAL AVE    |0870|THEFT             |POCKET-PICKING                                |CTA BUS                       |false |false   |1511|015     |29  |25            |06      |1138875     |1904869     |2015|02/10/2018 03:50:01 PM|41.895080471|-87.765400451|(41.895080471, -87.765400451)|\n",
      "|11646166|JC213529   |09/01/2018 12:01:00 AM|082XX S INGLESIDE AVE  |0810|THEFT             |OVER $500                                     |RESIDENCE                     |false |true    |0631|006     |8   |44            |06      |null        |null        |2018|04/06/2019 04:04:43 PM|null        |null         |null                         |\n",
      "|10224740|HY411595   |09/05/2015 12:45:00 PM|035XX W BARRY AVE      |2023|NARCOTICS         |POSS: HEROIN(BRN/TAN)                         |SIDEWALK                      |true  |false   |1412|014     |35  |21            |18      |1152037     |1920384     |2015|02/10/2018 03:50:01 PM|41.937405765|-87.716649687|(41.937405765, -87.716649687)|\n",
      "|10224741|HY411610   |09/05/2015 01:00:00 PM|0000X N LARAMIE AVE    |0560|ASSAULT           |SIMPLE                                        |APARTMENT                     |false |true    |1522|015     |28  |25            |08A     |1141706     |1900086     |2015|02/10/2018 03:50:01 PM|41.881903443|-87.755121152|(41.881903443, -87.755121152)|\n",
      "|10224742|HY411435   |09/05/2015 10:55:00 AM|082XX S LOOMIS BLVD    |0610|BURGLARY          |FORCIBLE ENTRY                                |RESIDENCE                     |false |false   |0614|006     |21  |71            |05      |1168430     |1850165     |2015|02/10/2018 03:50:01 PM|41.744378879|-87.658430635|(41.744378879, -87.658430635)|\n",
      "|10224743|HY411629   |09/04/2015 06:00:00 PM|021XX W CHURCHILL ST   |0620|BURGLARY          |UNLAWFUL ENTRY                                |RESIDENCE-GARAGE              |false |false   |1434|014     |32  |24            |05      |1161628     |1912157     |2015|02/10/2018 03:50:01 PM|41.914635603|-87.681630909|(41.914635603, -87.681630909)|\n",
      "|10224744|HY411605   |09/05/2015 01:00:00 PM|025XX W CERMAK RD      |0860|THEFT             |RETAIL THEFT                                  |GROCERY FOOD STORE            |true  |false   |1034|010     |25  |31            |06      |1159734     |1889313     |2015|09/17/2015 11:37:18 AM|41.851988885|-87.689219118|(41.851988885, -87.689219118)|\n",
      "|10224745|HY411654   |09/05/2015 11:30:00 AM|031XX W WASHINGTON BLVD|0320|ROBBERY           |STRONGARM - NO WEAPON                         |STREET                        |false |true    |1222|012     |27  |27            |03      |1155536     |1900515     |2015|02/10/2018 03:50:01 PM|41.88281374 |-87.704325717|(41.88281374, -87.704325717) |\n",
      "|11645836|JC212333   |05/01/2016 12:25:00 AM|055XX S ROCKWELL ST    |1153|DECEPTIVE PRACTICE|FINANCIAL IDENTITY THEFT OVER $ 300           |null                          |false |false   |0824|008     |15  |63            |11      |null        |null        |2016|04/06/2019 04:04:43 PM|null        |null         |null                         |\n",
      "|10224746|HY411662   |09/05/2015 02:00:00 PM|071XX S PULASKI RD     |0820|THEFT             |$500 AND UNDER                                |PARKING LOT/GARAGE(NON.RESID.)|false |false   |0833|008     |13  |65            |06      |1150938     |1857056     |2015|02/10/2018 03:50:01 PM|41.763647552|-87.722344693|(41.763647552, -87.722344693)|\n",
      "|10224749|HY411626   |09/05/2015 11:00:00 AM|052XX N MILWAUKEE AVE  |0460|BATTERY           |SIMPLE                                        |SMALL RETAIL STORE            |false |false   |1623|016     |45  |11            |08B     |1137969     |1934340     |2015|02/10/2018 03:50:01 PM|41.975968415|-87.768014257|(41.975968415, -87.768014257)|\n",
      "|10224750|HY411632   |09/05/2015 03:00:00 AM|0000X W 103RD ST       |2820|OTHER OFFENSE     |TELEPHONE THREAT                              |APARTMENT                     |false |true    |0512|005     |34  |49            |26      |1177871     |1836676     |2015|02/10/2018 03:50:01 PM|41.707154919|-87.624244993|(41.707154919, -87.624244993)|\n",
      "|10224751|HY411566   |09/05/2015 12:50:00 PM|013XX E 47TH ST        |0486|BATTERY           |DOMESTIC BATTERY SIMPLE                       |STREET                        |false |true    |0222|002     |4   |39            |08B     |1185907     |1874105     |2015|02/10/2018 03:50:01 PM|41.809678314|-87.593638934|(41.809678314, -87.593638934)|\n",
      "|10224752|HY411601   |09/03/2015 01:00:00 PM|020XX W SCHILLER ST    |0810|THEFT             |OVER $500                                     |STREET                        |false |false   |1424|014     |1   |24            |06      |1162574     |1909428     |2015|02/10/2018 03:50:01 PM|41.907127255|-87.678232016|(41.907127255, -87.678232016)|\n",
      "|10224753|HY411489   |09/05/2015 11:45:00 AM|080XX S JUSTINE ST     |0497|BATTERY           |AGGRAVATED DOMESTIC BATTERY: OTHER DANG WEAPON|APARTMENT                     |false |false   |0612|006     |21  |71            |04B     |1167400     |1851512     |2015|02/10/2018 03:50:01 PM|41.748097343|-87.662166183|(41.748097343, -87.662166183)|\n",
      "|10224754|HY411656   |09/05/2015 01:30:00 PM|007XX N LEAMINGTON AVE |1320|CRIMINAL DAMAGE   |TO VEHICLE                                    |STREET                        |false |false   |1531|015     |28  |25            |14      |1141889     |1904448     |2015|02/10/2018 03:50:01 PM|41.893869916|-87.754341096|(41.893869916, -87.754341096)|\n",
      "|10224756|HY410094   |07/08/2015 12:00:00 AM|103XX S TORRENCE AVE   |0620|BURGLARY          |UNLAWFUL ENTRY                                |OTHER                         |false |false   |0434|004     |10  |51            |05      |1195508     |1836950     |2015|02/10/2018 03:50:01 PM|41.707490122|-87.559650325|(41.707490122, -87.559650325)|\n",
      "|10224757|HY411388   |09/05/2015 09:55:00 AM|088XX S PAULINA ST     |0610|BURGLARY          |FORCIBLE ENTRY                                |RESIDENCE                     |true  |false   |2221|022     |21  |71            |05      |1166554     |1846067     |2015|02/10/2018 03:50:01 PM|41.733173536|-87.665421067|(41.733173536, -87.665421067)|\n",
      "|10224758|HY411568   |09/05/2015 12:35:00 PM|059XX W GRACE ST       |0486|BATTERY           |DOMESTIC BATTERY SIMPLE                       |STREET                        |false |true    |1633|016     |38  |15            |08B     |1136014     |1924656     |2015|02/10/2018 03:50:01 PM|41.949429769|-87.775435529|(41.949429769, -87.775435529)|\n",
      "+--------+-----------+----------------------+-----------------------+----+------------------+----------------------------------------------+------------------------------+------+--------+----+--------+----+--------------+--------+------------+------------+----+----------------------+------------+-------------+-----------------------------+\n",
      "only showing top 20 rows\n",
      "\n"
     ]
    }
   ],
   "source": [
    "nrc.show(truncate=False)"
   ]
  },
  {
   "cell_type": "markdown",
   "id": "d0cc792b-2d43-4cba-8f82-f77dd60ca967",
   "metadata": {},
   "source": [
    "## **User-Defined Functions (UDFs)**"
   ]
  },
  {
   "cell_type": "markdown",
   "id": "2076cc13-d6f3-435e-9fee-9c3f6fc9a069",
   "metadata": {},
   "source": [
    "## **Working with joins**"
   ]
  },
  {
   "cell_type": "markdown",
   "id": "0082fd21-508e-4b7d-a977-64bc3c73e4b3",
   "metadata": {},
   "source": [
    "### **Download police station data**"
   ]
  },
  {
   "cell_type": "code",
   "execution_count": 29,
   "id": "17008e11-41ef-43bc-8ead-6f43c8cbf0c2",
   "metadata": {},
   "outputs": [
    {
     "name": "stdout",
     "output_type": "stream",
     "text": [
      "+------------+-------------+-------------------+-------+-----+-----+--------------------+------------+------------+------------+------------+------------+-----------+------------+--------------------+\n",
      "|    DISTRICT|DISTRICT NAME|            ADDRESS|   CITY|STATE|  ZIP|             WEBSITE|       PHONE|         FAX|         TTY|X COORDINATE|Y COORDINATE|   LATITUDE|   LONGITUDE|            LOCATION|\n",
      "+------------+-------------+-------------------+-------+-----+-----+--------------------+------------+------------+------------+------------+------------+-----------+------------+--------------------+\n",
      "|Headquarters| Headquarters|3510 S Michigan Ave|Chicago|   IL|60653|http://home.chica...|        null|        null|        null| 1177731.401| 1881697.404|41.83070169|-87.62339535|(41.8307016873, -...|\n",
      "|          18|   Near North| 1160 N Larrabee St|Chicago|   IL|60610|http://home.chica...|312-742-5870|312-742-5771|312-742-5773| 1172080.029| 1908086.527|41.90324165|-87.64335214|(41.9032416531, -...|\n",
      "|          19|    Town Hall|   850 W Addison St|Chicago|   IL|60613|http://home.chica...|312-744-8320|312-744-4481|312-744-8011| 1169730.744| 1924160.317|41.94740046|-87.65151202|(41.9474004564, -...|\n",
      "|          20|      Lincoln| 5400 N Lincoln Ave|Chicago|   IL|60625|http://home.chica...|312-742-8714|312-742-8803|312-742-8841| 1158399.146| 1935788.826|41.97954951|-87.69284451|(41.9795495131, -...|\n",
      "|          22|  Morgan Park|1900 W Monterey Ave|Chicago|   IL|60643|http://home.chica...|312-745-0710|312-745-0814|312-745-0569| 1165825.476| 1830851.333|41.69143478|-87.66852039|(41.6914347795, -...|\n",
      "+------------+-------------+-------------------+-------+-----+-----+--------------------+------------+------------+------------+------------+------------+-----------+------------+--------------------+\n",
      "only showing top 5 rows\n",
      "\n"
     ]
    }
   ],
   "source": [
    "path = \"/home/jovyan/work/data/police-station.csv\"\n",
    "\n",
    "ps = spark.read.csv(path,header=True)\n",
    "ps.show(5)"
   ]
  },
  {
   "cell_type": "markdown",
   "id": "899ee4ef-1f0a-4460-b647-d750ae85def8",
   "metadata": {},
   "source": [
    "### **The reported crimes dataset has only the district number. Add the district name by joining with the police station dataset**"
   ]
  },
  {
   "cell_type": "code",
   "execution_count": 24,
   "id": "fec83c35-42c4-422e-8801-0d6fb5678025",
   "metadata": {},
   "outputs": [
    {
     "data": {
      "text/plain": [
       "327430"
      ]
     },
     "execution_count": 24,
     "metadata": {},
     "output_type": "execute_result"
    }
   ],
   "source": [
    "rc.cache()\n",
    "rc.count()"
   ]
  },
  {
   "cell_type": "code",
   "execution_count": 30,
   "id": "3dc95014-24d9-41d5-89b6-474abeea81c2",
   "metadata": {},
   "outputs": [
    {
     "name": "stdout",
     "output_type": "stream",
     "text": [
      "+------------+\n",
      "|    DISTRICT|\n",
      "+------------+\n",
      "|           7|\n",
      "|          15|\n",
      "|          11|\n",
      "|           3|\n",
      "|           8|\n",
      "|          22|\n",
      "|          16|\n",
      "|           5|\n",
      "|          18|\n",
      "|          17|\n",
      "|           6|\n",
      "|          19|\n",
      "|          25|\n",
      "|Headquarters|\n",
      "|          24|\n",
      "|           9|\n",
      "|           1|\n",
      "|          20|\n",
      "|          10|\n",
      "|           4|\n",
      "+------------+\n",
      "only showing top 20 rows\n",
      "\n"
     ]
    }
   ],
   "source": [
    "ps.select(col('DISTRICT')).distinct().show()"
   ]
  },
  {
   "cell_type": "code",
   "execution_count": 31,
   "id": "02313544-465d-4f77-b6f4-45de873be095",
   "metadata": {},
   "outputs": [
    {
     "name": "stdout",
     "output_type": "stream",
     "text": [
      "+--------+\n",
      "|DISTRICT|\n",
      "+--------+\n",
      "|     009|\n",
      "|     012|\n",
      "|     024|\n",
      "|     031|\n",
      "|     015|\n",
      "|     006|\n",
      "|     019|\n",
      "|     020|\n",
      "|     011|\n",
      "|     025|\n",
      "|     005|\n",
      "|     003|\n",
      "|     016|\n",
      "|     018|\n",
      "|     008|\n",
      "|     022|\n",
      "|     001|\n",
      "|     014|\n",
      "|     010|\n",
      "|     004|\n",
      "+--------+\n",
      "only showing top 20 rows\n",
      "\n"
     ]
    }
   ],
   "source": [
    "rc.select(col('DISTRICT')).distinct().show()"
   ]
  },
  {
   "cell_type": "code",
   "execution_count": 32,
   "id": "22305daf-a342-49e8-9612-40e972d9fa65",
   "metadata": {},
   "outputs": [
    {
     "name": "stdout",
     "output_type": "stream",
     "text": [
      "Help on function lpad in module pyspark.sql.functions:\n",
      "\n",
      "lpad(col: 'ColumnOrName', len: int, pad: str) -> pyspark.sql.column.Column\n",
      "    Left-pad the string column to width `len` with `pad`.\n",
      "    \n",
      "    .. versionadded:: 1.5.0\n",
      "    \n",
      "    Examples\n",
      "    --------\n",
      "    >>> df = spark.createDataFrame([('abcd',)], ['s',])\n",
      "    >>> df.select(lpad(df.s, 6, '#').alias('s')).collect()\n",
      "    [Row(s='##abcd')]\n",
      "\n"
     ]
    }
   ],
   "source": [
    "from pyspark.sql.functions import lpad\n",
    "help(lpad)"
   ]
  },
  {
   "cell_type": "code",
   "execution_count": 33,
   "id": "fd92d858-9e1e-47d4-bde7-5d31a5a407ae",
   "metadata": {},
   "outputs": [
    {
     "name": "stdout",
     "output_type": "stream",
     "text": [
      "+--------------------+\n",
      "|lpad(DISTRICT, 3, 0)|\n",
      "+--------------------+\n",
      "|                 Hea|\n",
      "|                 018|\n",
      "|                 019|\n",
      "|                 020|\n",
      "|                 022|\n",
      "|                 024|\n",
      "|                 025|\n",
      "|                 001|\n",
      "|                 002|\n",
      "|                 003|\n",
      "|                 004|\n",
      "|                 005|\n",
      "|                 006|\n",
      "|                 007|\n",
      "|                 008|\n",
      "|                 009|\n",
      "|                 010|\n",
      "|                 011|\n",
      "|                 012|\n",
      "|                 \",C|\n",
      "+--------------------+\n",
      "only showing top 20 rows\n",
      "\n"
     ]
    }
   ],
   "source": [
    "ps.select(lpad(col('DISTRICT'),3,'0')).show()"
   ]
  },
  {
   "cell_type": "code",
   "execution_count": 36,
   "id": "a87a3d86-361a-4711-950c-0def187abea3",
   "metadata": {},
   "outputs": [
    {
     "name": "stdout",
     "output_type": "stream",
     "text": [
      "+--------------------+-----------------+--------------------+-------+-----+-----+--------------------+------------+------------+------------+------------+------------+-----------+------------+--------------------+---------------+\n",
      "|            DISTRICT|    DISTRICT NAME|             ADDRESS|   CITY|STATE|  ZIP|             WEBSITE|       PHONE|         FAX|         TTY|X COORDINATE|Y COORDINATE|   LATITUDE|   LONGITUDE|            LOCATION|Format_District|\n",
      "+--------------------+-----------------+--------------------+-------+-----+-----+--------------------+------------+------------+------------+------------+------------+-----------+------------+--------------------+---------------+\n",
      "|\",Chicago,IL,6060...| -87.6569725149)\"|                null|   null| null| null|                null|        null|        null|        null|        null|        null|       null|        null|                null|            \",C|\n",
      "|                   1|          Central|     1718 S State St|Chicago|   IL|60616|http://home.chica...|312-745-4290|312-745-3694|312-745-3693| 1176569.052| 1891771.704|41.85837259|-87.62735617|(41.8583725929, -...|            001|\n",
      "|                   2|        Wentworth|5101 S Wentworth Ave|Chicago|   IL|60609|http://home.chica...|312-747-8366|312-747-5396|312-747-6656| 1175864.837| 1871153.753|41.80181109|-87.63056018|(41.8018110912, -...|            002|\n",
      "|                   3|   Grand Crossing|7040 S Cottage Gr...|Chicago|   IL|60637|http://home.chica...|312-747-8201|312-747-5479|312-747-9168| 1182739.183| 1858317.732|41.76643089|-87.60574786|(41.7664308925, -...|            003|\n",
      "|                   4|    South Chicago|     2255 E 103rd St|Chicago|   IL|60617|http://home.chica...|312-747-7581|312-747-5276|312-747-9169| 1193131.299| 1837090.265|41.70793329|-87.56834912|(41.7079332906, -...|            004|\n",
      "|                   5|          Calumet|      727 E 111th St|Chicago|   IL|60628|http://home.chica...|312-747-8210|312-747-5935|312-747-9170| 1183305.427| 1831462.313|41.69272336|-87.60450587|(41.6927233639, -...|            005|\n",
      "|                   6|          Gresham|   7808 S Halsted St|Chicago|   IL|60620|http://home.chica...|312-745-3617|312-745-3649|312-745-3639| 1172283.013| 1853022.646|41.75213684|-87.64422891|(41.7521368378, -...|            006|\n",
      "|                   7|        Englewood|      1438 W 63rd St|Chicago|   IL|60636|http://home.chica...|312-747-8223|312-747-6558|312-747-6652| 1167659.235| 1863005.522|41.77963154|-87.66088702|(41.7796315359, -...|            007|\n",
      "|                   8|     Chicago Lawn|      3420 W 63rd St|Chicago|   IL|60629|http://home.chica...|312-747-8730|312-747-8545|312-747-8116| 1154575.242| 1862672.049|41.77898719|-87.70886382|(41.778987189, -8...|            008|\n",
      "|                   9|          Deering|   3120 S Halsted St|Chicago|   IL|60608|http://home.chica...|312-747-8227|312-747-5329|312-747-9172|  1171440.24| 1884085.224|41.83739443|-87.64640771|(41.8373944311, -...|            009|\n",
      "|                  10|            Ogden|    3315 W Ogden Ave|Chicago|   IL|60623|http://home.chica...|312-747-7511|312-747-7429|312-747-7471| 1154500.753| 1890985.501|41.85668453|-87.70838196|(41.8566845327, -...|            010|\n",
      "|                  11|         Harrison|  3151 W Harrison St|Chicago|   IL|60612|http://home.chica...|312-746-8386|312-746-4281|312-746-5151| 1155244.069| 1897148.755|41.87358229|-87.70548813|(41.8735822883, -...|            011|\n",
      "|                  12|        Near West|1412 S Blue Islan...|   null| null| null|                null|        null|        null|        null|        null|        null|       null|        null|                null|            012|\n",
      "|                  14|      Shakespeare|2150 N California...|Chicago|   IL|60647|http://home.chica...|312-744-8250|312-744-2422|312-744-8260| 1157304.426| 1914481.521|41.92110332|-87.69745182|(41.9211033246, -...|            014|\n",
      "|                  15|           Austin|   5701 W Madison St|Chicago|   IL|60644|http://home.chica...|312-743-1440|312-743-1366|312-743-1485| 1138148.815| 1899399.078|41.88008346|-87.76819989|(41.8800834614, -...|            015|\n",
      "|                  16|   Jefferson Park|5151 N Milwaukee Ave|Chicago|   IL|60630|http://home.chica...|312-742-4480|312-742-4421|312-742-4423| 1138480.758| 1933660.473|41.97409445|-87.76614884|(41.9740944511, -...|            016|\n",
      "|                  17|      Albany Park|   4650 N Pulaski Rd|Chicago|   IL|60630|http://home.chica...|312-742-4410|312-742-5411|312-742-5451|  1148843.91| 1930801.058|41.96605342|-87.72811456|(41.9660534171, -...|            017|\n",
      "|                  18|       Near North|  1160 N Larrabee St|Chicago|   IL|60610|http://home.chica...|312-742-5870|312-742-5771|312-742-5773| 1172080.029| 1908086.527|41.90324165|-87.64335214|(41.9032416531, -...|            018|\n",
      "|                  19|        Town Hall|    850 W Addison St|Chicago|   IL|60613|http://home.chica...|312-744-8320|312-744-4481|312-744-8011| 1169730.744| 1924160.317|41.94740046|-87.65151202|(41.9474004564, -...|            019|\n",
      "|                  20|          Lincoln|  5400 N Lincoln Ave|Chicago|   IL|60625|http://home.chica...|312-742-8714|312-742-8803|312-742-8841| 1158399.146| 1935788.826|41.97954951|-87.69284451|(41.9795495131, -...|            020|\n",
      "+--------------------+-----------------+--------------------+-------+-----+-----+--------------------+------------+------------+------------+------------+------------+-----------+------------+--------------------+---------------+\n",
      "only showing top 20 rows\n",
      "\n"
     ]
    }
   ],
   "source": [
    "ps = ps.withColumn('Format_District',lpad(col('DISTRICT'),3,'0'))\n",
    "ps.orderBy('Format_District').show()"
   ]
  },
  {
   "cell_type": "code",
   "execution_count": 38,
   "id": "ac1377c0-0102-41aa-a81f-ac15e2363905",
   "metadata": {},
   "outputs": [
    {
     "name": "stdout",
     "output_type": "stream",
     "text": [
      "+--------+-----------+-------------------+--------------------+----+------------------+--------------------+--------------------+------+--------+----+--------+----+--------------+--------+------------+------------+----+--------------------+------------+-------------+--------------------+--------+--------------+--------------------+-------+-----+-----+--------------------+------------+------------+------------+------------+------------+-----------+------------+--------------------+---------------+\n",
      "|      ID|Case Number|               Date|               Block|IUCR|      Primary Type|         Description|Location Description|Arrest|Domestic|Beat|District|Ward|Community Area|FBI Code|X Coordinate|Y Coordinate|Year|          Updated On|    Latitude|    Longitude|            Location|DISTRICT| DISTRICT NAME|             ADDRESS|   CITY|STATE|  ZIP|             WEBSITE|       PHONE|         FAX|         TTY|X COORDINATE|Y COORDINATE|   LATITUDE|   LONGITUDE|            LOCATION|Format_District|\n",
      "+--------+-----------+-------------------+--------------------+----+------------------+--------------------+--------------------+------+--------+----+--------+----+--------------+--------+------------+------------+----+--------------------+------------+-------------+--------------------+--------+--------------+--------------------+-------+-----+-----+--------------------+------------+------------+------------+------------+------------+-----------+------------+--------------------+---------------+\n",
      "|10224738|   HY411648|2015-09-05 13:30:00|     043XX S WOOD ST|0486|           BATTERY|DOMESTIC BATTERY ...|           RESIDENCE| false|    true|0924|     009|  12|            61|     08B|     1165074|     1875917|2015|02/10/2018 03:50:...|41.815117282|-87.669999562|(41.815117282, -8...|       9|       Deering|   3120 S Halsted St|Chicago|   IL|60608|http://home.chica...|312-747-8227|312-747-5329|312-747-9172|  1171440.24| 1884085.224|41.83739443|-87.64640771|(41.8373944311, -...|            009|\n",
      "|10224739|   HY411615|2015-09-04 11:30:00| 008XX N CENTRAL AVE|0870|             THEFT|      POCKET-PICKING|             CTA BUS| false|   false|1511|     015|  29|            25|      06|     1138875|     1904869|2015|02/10/2018 03:50:...|41.895080471|-87.765400451|(41.895080471, -8...|      15|        Austin|   5701 W Madison St|Chicago|   IL|60644|http://home.chica...|312-743-1440|312-743-1366|312-743-1485| 1138148.815| 1899399.078|41.88008346|-87.76819989|(41.8800834614, -...|            015|\n",
      "|11646166|   JC213529|2018-09-01 00:01:00|082XX S INGLESIDE...|0810|             THEFT|           OVER $500|           RESIDENCE| false|    true|0631|     006|   8|            44|      06|        null|        null|2018|04/06/2019 04:04:...|        null|         null|                null|       6|       Gresham|   7808 S Halsted St|Chicago|   IL|60620|http://home.chica...|312-745-3617|312-745-3649|312-745-3639| 1172283.013| 1853022.646|41.75213684|-87.64422891|(41.7521368378, -...|            006|\n",
      "|10224740|   HY411595|2015-09-05 12:45:00|   035XX W BARRY AVE|2023|         NARCOTICS|POSS: HEROIN(BRN/...|            SIDEWALK|  true|   false|1412|     014|  35|            21|      18|     1152037|     1920384|2015|02/10/2018 03:50:...|41.937405765|-87.716649687|(41.937405765, -8...|      14|   Shakespeare|2150 N California...|Chicago|   IL|60647|http://home.chica...|312-744-8250|312-744-2422|312-744-8260| 1157304.426| 1914481.521|41.92110332|-87.69745182|(41.9211033246, -...|            014|\n",
      "|10224741|   HY411610|2015-09-05 13:00:00| 0000X N LARAMIE AVE|0560|           ASSAULT|              SIMPLE|           APARTMENT| false|    true|1522|     015|  28|            25|     08A|     1141706|     1900086|2015|02/10/2018 03:50:...|41.881903443|-87.755121152|(41.881903443, -8...|      15|        Austin|   5701 W Madison St|Chicago|   IL|60644|http://home.chica...|312-743-1440|312-743-1366|312-743-1485| 1138148.815| 1899399.078|41.88008346|-87.76819989|(41.8800834614, -...|            015|\n",
      "|10224742|   HY411435|2015-09-05 10:55:00| 082XX S LOOMIS BLVD|0610|          BURGLARY|      FORCIBLE ENTRY|           RESIDENCE| false|   false|0614|     006|  21|            71|      05|     1168430|     1850165|2015|02/10/2018 03:50:...|41.744378879|-87.658430635|(41.744378879, -8...|       6|       Gresham|   7808 S Halsted St|Chicago|   IL|60620|http://home.chica...|312-745-3617|312-745-3649|312-745-3639| 1172283.013| 1853022.646|41.75213684|-87.64422891|(41.7521368378, -...|            006|\n",
      "|10224743|   HY411629|2015-09-04 18:00:00|021XX W CHURCHILL ST|0620|          BURGLARY|      UNLAWFUL ENTRY|    RESIDENCE-GARAGE| false|   false|1434|     014|  32|            24|      05|     1161628|     1912157|2015|02/10/2018 03:50:...|41.914635603|-87.681630909|(41.914635603, -8...|      14|   Shakespeare|2150 N California...|Chicago|   IL|60647|http://home.chica...|312-744-8250|312-744-2422|312-744-8260| 1157304.426| 1914481.521|41.92110332|-87.69745182|(41.9211033246, -...|            014|\n",
      "|10224744|   HY411605|2015-09-05 13:00:00|   025XX W CERMAK RD|0860|             THEFT|        RETAIL THEFT|  GROCERY FOOD STORE|  true|   false|1034|     010|  25|            31|      06|     1159734|     1889313|2015|09/17/2015 11:37:...|41.851988885|-87.689219118|(41.851988885, -8...|      10|         Ogden|    3315 W Ogden Ave|Chicago|   IL|60623|http://home.chica...|312-747-7511|312-747-7429|312-747-7471| 1154500.753| 1890985.501|41.85668453|-87.70838196|(41.8566845327, -...|            010|\n",
      "|10224745|   HY411654|2015-09-05 11:30:00|031XX W WASHINGTO...|0320|           ROBBERY|STRONGARM - NO WE...|              STREET| false|    true|1222|     012|  27|            27|      03|     1155536|     1900515|2015|02/10/2018 03:50:...| 41.88281374|-87.704325717|(41.88281374, -87...|      12|     Near West|1412 S Blue Islan...|   null| null| null|                null|        null|        null|        null|        null|        null|       null|        null|                null|            012|\n",
      "|11645836|   JC212333|2016-05-01 00:25:00| 055XX S ROCKWELL ST|1153|DECEPTIVE PRACTICE|FINANCIAL IDENTIT...|                null| false|   false|0824|     008|  15|            63|      11|        null|        null|2016|04/06/2019 04:04:...|        null|         null|                null|       8|  Chicago Lawn|      3420 W 63rd St|Chicago|   IL|60629|http://home.chica...|312-747-8730|312-747-8545|312-747-8116| 1154575.242| 1862672.049|41.77898719|-87.70886382|(41.778987189, -8...|            008|\n",
      "|10224746|   HY411662|2015-09-05 14:00:00|  071XX S PULASKI RD|0820|             THEFT|      $500 AND UNDER|PARKING LOT/GARAG...| false|   false|0833|     008|  13|            65|      06|     1150938|     1857056|2015|02/10/2018 03:50:...|41.763647552|-87.722344693|(41.763647552, -8...|       8|  Chicago Lawn|      3420 W 63rd St|Chicago|   IL|60629|http://home.chica...|312-747-8730|312-747-8545|312-747-8116| 1154575.242| 1862672.049|41.77898719|-87.70886382|(41.778987189, -8...|            008|\n",
      "|10224749|   HY411626|2015-09-05 11:00:00|052XX N MILWAUKEE...|0460|           BATTERY|              SIMPLE|  SMALL RETAIL STORE| false|   false|1623|     016|  45|            11|     08B|     1137969|     1934340|2015|02/10/2018 03:50:...|41.975968415|-87.768014257|(41.975968415, -8...|      16|Jefferson Park|5151 N Milwaukee Ave|Chicago|   IL|60630|http://home.chica...|312-742-4480|312-742-4421|312-742-4423| 1138480.758| 1933660.473|41.97409445|-87.76614884|(41.9740944511, -...|            016|\n",
      "|10224750|   HY411632|2015-09-05 03:00:00|    0000X W 103RD ST|2820|     OTHER OFFENSE|    TELEPHONE THREAT|           APARTMENT| false|    true|0512|     005|  34|            49|      26|     1177871|     1836676|2015|02/10/2018 03:50:...|41.707154919|-87.624244993|(41.707154919, -8...|       5|       Calumet|      727 E 111th St|Chicago|   IL|60628|http://home.chica...|312-747-8210|312-747-5935|312-747-9170| 1183305.427| 1831462.313|41.69272336|-87.60450587|(41.6927233639, -...|            005|\n",
      "|10224751|   HY411566|2015-09-05 12:50:00|     013XX E 47TH ST|0486|           BATTERY|DOMESTIC BATTERY ...|              STREET| false|    true|0222|     002|   4|            39|     08B|     1185907|     1874105|2015|02/10/2018 03:50:...|41.809678314|-87.593638934|(41.809678314, -8...|       2|     Wentworth|5101 S Wentworth Ave|Chicago|   IL|60609|http://home.chica...|312-747-8366|312-747-5396|312-747-6656| 1175864.837| 1871153.753|41.80181109|-87.63056018|(41.8018110912, -...|            002|\n",
      "|10224752|   HY411601|2015-09-03 13:00:00| 020XX W SCHILLER ST|0810|             THEFT|           OVER $500|              STREET| false|   false|1424|     014|   1|            24|      06|     1162574|     1909428|2015|02/10/2018 03:50:...|41.907127255|-87.678232016|(41.907127255, -8...|      14|   Shakespeare|2150 N California...|Chicago|   IL|60647|http://home.chica...|312-744-8250|312-744-2422|312-744-8260| 1157304.426| 1914481.521|41.92110332|-87.69745182|(41.9211033246, -...|            014|\n",
      "|10224753|   HY411489|2015-09-05 11:45:00|  080XX S JUSTINE ST|0497|           BATTERY|AGGRAVATED DOMEST...|           APARTMENT| false|   false|0612|     006|  21|            71|     04B|     1167400|     1851512|2015|02/10/2018 03:50:...|41.748097343|-87.662166183|(41.748097343, -8...|       6|       Gresham|   7808 S Halsted St|Chicago|   IL|60620|http://home.chica...|312-745-3617|312-745-3649|312-745-3639| 1172283.013| 1853022.646|41.75213684|-87.64422891|(41.7521368378, -...|            006|\n",
      "|10224754|   HY411656|2015-09-05 13:30:00|007XX N LEAMINGTO...|1320|   CRIMINAL DAMAGE|          TO VEHICLE|              STREET| false|   false|1531|     015|  28|            25|      14|     1141889|     1904448|2015|02/10/2018 03:50:...|41.893869916|-87.754341096|(41.893869916, -8...|      15|        Austin|   5701 W Madison St|Chicago|   IL|60644|http://home.chica...|312-743-1440|312-743-1366|312-743-1485| 1138148.815| 1899399.078|41.88008346|-87.76819989|(41.8800834614, -...|            015|\n",
      "|10224756|   HY410094|2015-07-08 00:00:00|103XX S TORRENCE AVE|0620|          BURGLARY|      UNLAWFUL ENTRY|               OTHER| false|   false|0434|     004|  10|            51|      05|     1195508|     1836950|2015|02/10/2018 03:50:...|41.707490122|-87.559650325|(41.707490122, -8...|       4| South Chicago|     2255 E 103rd St|Chicago|   IL|60617|http://home.chica...|312-747-7581|312-747-5276|312-747-9169| 1193131.299| 1837090.265|41.70793329|-87.56834912|(41.7079332906, -...|            004|\n",
      "|10224757|   HY411388|2015-09-05 09:55:00|  088XX S PAULINA ST|0610|          BURGLARY|      FORCIBLE ENTRY|           RESIDENCE|  true|   false|2221|     022|  21|            71|      05|     1166554|     1846067|2015|02/10/2018 03:50:...|41.733173536|-87.665421067|(41.733173536, -8...|      22|   Morgan Park| 1900 W Monterey Ave|Chicago|   IL|60643|http://home.chica...|312-745-0710|312-745-0814|312-745-0569| 1165825.476| 1830851.333|41.69143478|-87.66852039|(41.6914347795, -...|            022|\n",
      "|10224758|   HY411568|2015-09-05 12:35:00|    059XX W GRACE ST|0486|           BATTERY|DOMESTIC BATTERY ...|              STREET| false|    true|1633|     016|  38|            15|     08B|     1136014|     1924656|2015|02/10/2018 03:50:...|41.949429769|-87.775435529|(41.949429769, -8...|      16|Jefferson Park|5151 N Milwaukee Ave|Chicago|   IL|60630|http://home.chica...|312-742-4480|312-742-4421|312-742-4423| 1138480.758| 1933660.473|41.97409445|-87.76614884|(41.9740944511, -...|            016|\n",
      "+--------+-----------+-------------------+--------------------+----+------------------+--------------------+--------------------+------+--------+----+--------+----+--------------+--------+------------+------------+----+--------------------+------------+-------------+--------------------+--------+--------------+--------------------+-------+-----+-----+--------------------+------------+------------+------------+------------+------------+-----------+------------+--------------------+---------------+\n",
      "only showing top 20 rows\n",
      "\n"
     ]
    }
   ],
   "source": [
    "rc.join(ps,rc.District == ps.Format_District, 'left_outer').show()"
   ]
  },
  {
   "cell_type": "code",
   "execution_count": 39,
   "id": "9f09d186-732b-4e98-86cf-922aa8991202",
   "metadata": {},
   "outputs": [
    {
     "data": {
      "text/plain": [
       "['DISTRICT',\n",
       " 'DISTRICT NAME',\n",
       " 'ADDRESS',\n",
       " 'CITY',\n",
       " 'STATE',\n",
       " 'ZIP',\n",
       " 'WEBSITE',\n",
       " 'PHONE',\n",
       " 'FAX',\n",
       " 'TTY',\n",
       " 'X COORDINATE',\n",
       " 'Y COORDINATE',\n",
       " 'LATITUDE',\n",
       " 'LONGITUDE',\n",
       " 'LOCATION',\n",
       " 'Format_District']"
      ]
     },
     "execution_count": 39,
     "metadata": {},
     "output_type": "execute_result"
    }
   ],
   "source": [
    "ps.columns"
   ]
  },
  {
   "cell_type": "code",
   "execution_count": 41,
   "id": "7c1d2a6c-7f5e-450e-8714-4f714d33985f",
   "metadata": {},
   "outputs": [
    {
     "name": "stdout",
     "output_type": "stream",
     "text": [
      "+--------+-----------+-------------------+--------------------+----+------------------+--------------------+--------------------+------+--------+----+--------+----+--------------+--------+----+--------------------+--------+--------------+--------------------+---------------+\n",
      "|      ID|Case Number|               Date|               Block|IUCR|      Primary Type|         Description|Location Description|Arrest|Domestic|Beat|District|Ward|Community Area|FBI Code|Year|          Updated On|DISTRICT| DISTRICT NAME|             ADDRESS|Format_District|\n",
      "+--------+-----------+-------------------+--------------------+----+------------------+--------------------+--------------------+------+--------+----+--------+----+--------------+--------+----+--------------------+--------+--------------+--------------------+---------------+\n",
      "|10224738|   HY411648|2015-09-05 13:30:00|     043XX S WOOD ST|0486|           BATTERY|DOMESTIC BATTERY ...|           RESIDENCE| false|    true|0924|     009|  12|            61|     08B|2015|02/10/2018 03:50:...|       9|       Deering|   3120 S Halsted St|            009|\n",
      "|10224739|   HY411615|2015-09-04 11:30:00| 008XX N CENTRAL AVE|0870|             THEFT|      POCKET-PICKING|             CTA BUS| false|   false|1511|     015|  29|            25|      06|2015|02/10/2018 03:50:...|      15|        Austin|   5701 W Madison St|            015|\n",
      "|11646166|   JC213529|2018-09-01 00:01:00|082XX S INGLESIDE...|0810|             THEFT|           OVER $500|           RESIDENCE| false|    true|0631|     006|   8|            44|      06|2018|04/06/2019 04:04:...|       6|       Gresham|   7808 S Halsted St|            006|\n",
      "|10224740|   HY411595|2015-09-05 12:45:00|   035XX W BARRY AVE|2023|         NARCOTICS|POSS: HEROIN(BRN/...|            SIDEWALK|  true|   false|1412|     014|  35|            21|      18|2015|02/10/2018 03:50:...|      14|   Shakespeare|2150 N California...|            014|\n",
      "|10224741|   HY411610|2015-09-05 13:00:00| 0000X N LARAMIE AVE|0560|           ASSAULT|              SIMPLE|           APARTMENT| false|    true|1522|     015|  28|            25|     08A|2015|02/10/2018 03:50:...|      15|        Austin|   5701 W Madison St|            015|\n",
      "|10224742|   HY411435|2015-09-05 10:55:00| 082XX S LOOMIS BLVD|0610|          BURGLARY|      FORCIBLE ENTRY|           RESIDENCE| false|   false|0614|     006|  21|            71|      05|2015|02/10/2018 03:50:...|       6|       Gresham|   7808 S Halsted St|            006|\n",
      "|10224743|   HY411629|2015-09-04 18:00:00|021XX W CHURCHILL ST|0620|          BURGLARY|      UNLAWFUL ENTRY|    RESIDENCE-GARAGE| false|   false|1434|     014|  32|            24|      05|2015|02/10/2018 03:50:...|      14|   Shakespeare|2150 N California...|            014|\n",
      "|10224744|   HY411605|2015-09-05 13:00:00|   025XX W CERMAK RD|0860|             THEFT|        RETAIL THEFT|  GROCERY FOOD STORE|  true|   false|1034|     010|  25|            31|      06|2015|09/17/2015 11:37:...|      10|         Ogden|    3315 W Ogden Ave|            010|\n",
      "|10224745|   HY411654|2015-09-05 11:30:00|031XX W WASHINGTO...|0320|           ROBBERY|STRONGARM - NO WE...|              STREET| false|    true|1222|     012|  27|            27|      03|2015|02/10/2018 03:50:...|      12|     Near West|1412 S Blue Islan...|            012|\n",
      "|11645836|   JC212333|2016-05-01 00:25:00| 055XX S ROCKWELL ST|1153|DECEPTIVE PRACTICE|FINANCIAL IDENTIT...|                null| false|   false|0824|     008|  15|            63|      11|2016|04/06/2019 04:04:...|       8|  Chicago Lawn|      3420 W 63rd St|            008|\n",
      "|10224746|   HY411662|2015-09-05 14:00:00|  071XX S PULASKI RD|0820|             THEFT|      $500 AND UNDER|PARKING LOT/GARAG...| false|   false|0833|     008|  13|            65|      06|2015|02/10/2018 03:50:...|       8|  Chicago Lawn|      3420 W 63rd St|            008|\n",
      "|10224749|   HY411626|2015-09-05 11:00:00|052XX N MILWAUKEE...|0460|           BATTERY|              SIMPLE|  SMALL RETAIL STORE| false|   false|1623|     016|  45|            11|     08B|2015|02/10/2018 03:50:...|      16|Jefferson Park|5151 N Milwaukee Ave|            016|\n",
      "|10224750|   HY411632|2015-09-05 03:00:00|    0000X W 103RD ST|2820|     OTHER OFFENSE|    TELEPHONE THREAT|           APARTMENT| false|    true|0512|     005|  34|            49|      26|2015|02/10/2018 03:50:...|       5|       Calumet|      727 E 111th St|            005|\n",
      "|10224751|   HY411566|2015-09-05 12:50:00|     013XX E 47TH ST|0486|           BATTERY|DOMESTIC BATTERY ...|              STREET| false|    true|0222|     002|   4|            39|     08B|2015|02/10/2018 03:50:...|       2|     Wentworth|5101 S Wentworth Ave|            002|\n",
      "|10224752|   HY411601|2015-09-03 13:00:00| 020XX W SCHILLER ST|0810|             THEFT|           OVER $500|              STREET| false|   false|1424|     014|   1|            24|      06|2015|02/10/2018 03:50:...|      14|   Shakespeare|2150 N California...|            014|\n",
      "|10224753|   HY411489|2015-09-05 11:45:00|  080XX S JUSTINE ST|0497|           BATTERY|AGGRAVATED DOMEST...|           APARTMENT| false|   false|0612|     006|  21|            71|     04B|2015|02/10/2018 03:50:...|       6|       Gresham|   7808 S Halsted St|            006|\n",
      "|10224754|   HY411656|2015-09-05 13:30:00|007XX N LEAMINGTO...|1320|   CRIMINAL DAMAGE|          TO VEHICLE|              STREET| false|   false|1531|     015|  28|            25|      14|2015|02/10/2018 03:50:...|      15|        Austin|   5701 W Madison St|            015|\n",
      "|10224756|   HY410094|2015-07-08 00:00:00|103XX S TORRENCE AVE|0620|          BURGLARY|      UNLAWFUL ENTRY|               OTHER| false|   false|0434|     004|  10|            51|      05|2015|02/10/2018 03:50:...|       4| South Chicago|     2255 E 103rd St|            004|\n",
      "|10224757|   HY411388|2015-09-05 09:55:00|  088XX S PAULINA ST|0610|          BURGLARY|      FORCIBLE ENTRY|           RESIDENCE|  true|   false|2221|     022|  21|            71|      05|2015|02/10/2018 03:50:...|      22|   Morgan Park| 1900 W Monterey Ave|            022|\n",
      "|10224758|   HY411568|2015-09-05 12:35:00|    059XX W GRACE ST|0486|           BATTERY|DOMESTIC BATTERY ...|              STREET| false|    true|1633|     016|  38|            15|     08B|2015|02/10/2018 03:50:...|      16|Jefferson Park|5151 N Milwaukee Ave|            016|\n",
      "+--------+-----------+-------------------+--------------------+----+------------------+--------------------+--------------------+------+--------+----+--------+----+--------------+--------+----+--------------------+--------+--------------+--------------------+---------------+\n",
      "only showing top 20 rows\n",
      "\n"
     ]
    }
   ],
   "source": [
    "rc.join(ps,rc.District == ps.Format_District, 'left_outer').drop(\n",
    " 'CITY',\n",
    " 'STATE',\n",
    " 'ZIP',\n",
    " 'WEBSITE',\n",
    " 'PHONE',\n",
    " 'FAX',\n",
    " 'TTY',\n",
    " 'X COORDINATE',\n",
    " 'Y COORDINATE',\n",
    " 'LATITUDE',\n",
    " 'LONGITUDE',\n",
    " 'LOCATION',\n",
    ").show()\n"
   ]
  }
 ],
 "metadata": {
  "kernelspec": {
   "display_name": "Python 3 (ipykernel)",
   "language": "python",
   "name": "python3"
  },
  "language_info": {
   "codemirror_mode": {
    "name": "ipython",
    "version": 3
   },
   "file_extension": ".py",
   "mimetype": "text/x-python",
   "name": "python",
   "nbconvert_exporter": "python",
   "pygments_lexer": "ipython3",
   "version": "3.10.6"
  }
 },
 "nbformat": 4,
 "nbformat_minor": 5
}

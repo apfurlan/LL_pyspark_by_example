{
 "cells": [
  {
   "cell_type": "markdown",
   "id": "d8b9eb40-ef2d-49d7-a9f1-bea6a7d7e68c",
   "metadata": {},
   "source": [
    "# **Challenge**\n",
    "\n",
    "## **Objectives**\n",
    "\n",
    "1. Find the most frequently reported noncriminal activity\n",
    "2. Find the day of the week with the most reported crime"
   ]
  },
  {
   "cell_type": "code",
   "execution_count": 1,
   "id": "ea9b191d-121b-49a6-8e03-491571c65c36",
   "metadata": {},
   "outputs": [],
   "source": [
    "from pyspark import *\n",
    "from pyspark.sql.functions import *\n",
    "\n",
    "from pyspark.sql import SparkSession\n",
    "from pyspark.sql.functions import *"
   ]
  },
  {
   "cell_type": "code",
   "execution_count": 2,
   "id": "8c6575db-8fcd-45dd-9355-1fc278d72e1b",
   "metadata": {},
   "outputs": [],
   "source": [
    "spark = (\n",
    "    SparkSession\n",
    "    .builder\n",
    "    .getOrCreate()\n",
    ")"
   ]
  },
  {
   "cell_type": "code",
   "execution_count": 3,
   "id": "26ba697a-b22a-485a-91c1-c49d380713a3",
   "metadata": {},
   "outputs": [],
   "source": [
    "path = \"/home/jovyan/work/data/reported-crimes.csv\"\n",
    "\n",
    "rc = (\n",
    "    spark\n",
    "    .read\n",
    "    .csv(path,header=True)\n",
    "    .withColumn('Date',to_timestamp(col('Date'),'MM/dd/yyyy hh:mm:ss a'))\n",
    "    .filter(col('Date') <= lit('2018-11-11'))\n",
    ")"
   ]
  },
  {
   "cell_type": "markdown",
   "id": "60be8e81-0663-4d01-b20e-df67e6ce073c",
   "metadata": {},
   "source": [
    "### **Objective 1**"
   ]
  },
  {
   "cell_type": "code",
   "execution_count": 14,
   "id": "6c5dd5be-2446-480c-bead-2c5dffcce4b8",
   "metadata": {},
   "outputs": [
    {
     "name": "stdout",
     "output_type": "stream",
     "text": [
      "+---------------------------------+\n",
      "|Primary Type                     |\n",
      "+---------------------------------+\n",
      "|OFFENSE INVOLVING CHILDREN       |\n",
      "|CRIMINAL SEXUAL ASSAULT          |\n",
      "|STALKING                         |\n",
      "|PUBLIC PEACE VIOLATION           |\n",
      "|OBSCENITY                        |\n",
      "|ARSON                            |\n",
      "|GAMBLING                         |\n",
      "|CRIMINAL TRESPASS                |\n",
      "|ASSAULT                          |\n",
      "|NON - CRIMINAL                   |\n",
      "|LIQUOR LAW VIOLATION             |\n",
      "|MOTOR VEHICLE THEFT              |\n",
      "|THEFT                            |\n",
      "|BATTERY                          |\n",
      "|ROBBERY                          |\n",
      "|PUBLIC INDECENCY                 |\n",
      "|CRIM SEXUAL ASSAULT              |\n",
      "|HUMAN TRAFFICKING                |\n",
      "|INTIMIDATION                     |\n",
      "|PROSTITUTION                     |\n",
      "|DECEPTIVE PRACTICE               |\n",
      "|CONCEALED CARRY LICENSE VIOLATION|\n",
      "|SEX OFFENSE                      |\n",
      "|CRIMINAL DAMAGE                  |\n",
      "|NARCOTICS                        |\n",
      "|OTHER OFFENSE                    |\n",
      "|KIDNAPPING                       |\n",
      "|BURGLARY                         |\n",
      "|WEAPONS VIOLATION                |\n",
      "|OTHER NARCOTIC VIOLATION         |\n",
      "|INTERFERENCE WITH PUBLIC OFFICER |\n",
      "|NON-CRIMINAL                     |\n",
      "|HOMICIDE                         |\n",
      "|NON-CRIMINAL (SUBJECT SPECIFIED) |\n",
      "+---------------------------------+\n",
      "\n"
     ]
    }
   ],
   "source": [
    "rc.select(col('Primary Type')).distinct().show(50,truncate=False)"
   ]
  },
  {
   "cell_type": "code",
   "execution_count": 39,
   "id": "297cc50e-7fe2-41d4-bb80-77d2bbbf0ae1",
   "metadata": {},
   "outputs": [
    {
     "name": "stdout",
     "output_type": "stream",
     "text": [
      "+--------+-----------+-------------------+--------------------+----+--------------------+--------------------+--------------------+------+--------+----+--------+----+--------------+--------+------------+------------+----+--------------------+------------+-------------+--------------------+\n",
      "|      ID|Case Number|               Date|               Block|IUCR|        Primary Type|         Description|Location Description|Arrest|Domestic|Beat|District|Ward|Community Area|FBI Code|X Coordinate|Y Coordinate|Year|          Updated On|    Latitude|    Longitude|            Location|\n",
      "+--------+-----------+-------------------+--------------------+----+--------------------+--------------------+--------------------+------+--------+----+--------+----+--------------+--------+------------+------------+----+--------------------+------------+-------------+--------------------+\n",
      "|10233370|   HY421530|2015-09-13 10:45:00|  010XX S MENARD AVE|5114|      NON - CRIMINAL|   FOID - REVOCATION|           RESIDENCE|  true|   false|1513|     015|  29|            25|      26|     1137869|     1895239|2015|02/10/2018 03:50:...|41.868672696|-87.769327726|(41.868672696, -8...|\n",
      "|10241515|   HY429346|2015-09-19 07:45:00|051XX N MILWAUKEE...|5114|      NON - CRIMINAL|   FOID - REVOCATION|POLICE FACILITY/V...|  true|   false|1623|     016|  45|            11|      26|     1138424|     1933673|2015|02/10/2018 03:50:...|41.974129858|-87.766357256|(41.974129858, -8...|\n",
      "|10277370|   HY465290|2015-10-16 20:00:00|    100XX W OHARE ST|5093|        NON-CRIMINAL|       LOST PASSPORT|            AIRCRAFT| false|   false|1651|     016|  41|            76|      26|     1100658|     1934241|2015|02/10/2018 03:50:...|41.976290414|-87.905227221|(41.976290414, -8...|\n",
      "|10280097|   HY468448|2015-10-19 18:50:00|   033XX W OGDEN AVE|5114|      NON - CRIMINAL|   FOID - REVOCATION|POLICE FACILITY/V...| false|   false|1024|     010|  24|            29|      26|     1154489|     1891024|2015|02/10/2018 03:50:...|41.856790413|-87.708424071|(41.856790413, -8...|\n",
      "|10290745|   HY478502|2015-10-26 16:00:00|004XX W DIVERSEY ...|5093|        NON-CRIMINAL|       LOST PASSPORT|            SIDEWALK| false|   false|1934|     019|  44|             6|      26|     1172533|     1918887|2015|02/10/2018 03:50:...|41.932868651|-87.641368196|(41.932868651, -8...|\n",
      "|10296800|   HY485235|2015-09-30 17:00:00|008XX N MAPLEWOOD...|5093|        NON-CRIMINAL|       LOST PASSPORT|            SIDEWALK| false|   false|1211|     012|   1|            24|      26|     1159246|     1905582|2015|02/10/2018 03:50:...|41.896642608|-87.690563055|(41.896642608, -8...|\n",
      "|10300617|   HY489191|2015-11-03 15:00:00|  031XX S HALSTED ST|5114|      NON - CRIMINAL|   FOID - REVOCATION|           RESIDENCE| false|   false|0913|     009|  11|            60|      26|     1171479|     1884120|2015|02/10/2018 03:50:...|41.837489008|-87.646264459|(41.837489008, -8...|\n",
      "|10325994|   HY516457|2015-11-26 23:30:00|  001XX W HUBBARD ST|5093|        NON-CRIMINAL|       LOST PASSPORT|          RESTAURANT| false|   false|1831|     018|  42|             8|      26|     1175301|     1903292|2015|02/10/2018 03:50:...|41.890013524|-87.631664996|(41.890013524, -8...|\n",
      "|10157940|   HY347539|2015-07-08 10:30:00| 016XX W CHICAGO AVE|5093|        NON-CRIMINAL|       LOST PASSPORT|              STREET| false|   false|1215|     012|   1|            24|      26|     1165158|     1905410|2015|02/10/2018 03:50:...|41.896047034|-87.668854221|(41.896047034, -8...|\n",
      "|10181019|   HY369010|2015-08-01 10:15:00|  079XX S KEDZIE AVE|5114|      NON - CRIMINAL|   FOID - REVOCATION|           RESIDENCE| false|   false|0835|     008|  18|            70|      26|     1156427|     1851731|2015|02/10/2018 03:50:...|41.748926157| -87.70236927|(41.748926157, -8...|\n",
      "|11249289|   JB176638|2016-12-23 12:00:00| 0000X N CENTRAL AVE|5093|        NON-CRIMINAL|       LOST PASSPORT|           RESIDENCE| false|   false|1513|     015|  29|            25|      26|        null|        null|2016|03/08/2018 03:55:...|        null|         null|                null|\n",
      "|10202049|   HY389275|2015-08-19 18:38:00|025XX W MARQUETTE RD|5114|      NON - CRIMINAL|   FOID - REVOCATION|           APARTMENT| false|   false|0832|     008|  15|            66|      26|     1160388|     1860136|2015|02/10/2018 03:50:...|41.771910102|-87.687623385|(41.771910102, -8...|\n",
      "|10813751|   JA113073|2003-03-17 20:00:00| 029XX N MELVINA AVE|5093|        NON-CRIMINAL|       LOST PASSPORT|           RESIDENCE| false|   false|2511|     025|  29|            19|      26|        null|        null|2003|01/14/2017 03:49:...|        null|         null|                null|\n",
      "|10212100|   HY398571|2015-08-26 17:45:00|    017XX S STATE ST|0585|        NON-CRIMINAL|NOTIFICATION OF S...|POLICE FACILITY/V...|  true|   false|0131|     001|   3|            33|      26|     1176607|     1891853|2015|02/10/2018 03:50:...|41.858594819|-87.627214427|(41.858594819, -8...|\n",
      "|10213039|   HY398172|2015-08-26 11:45:00| 0000X W TERMINAL ST|5093|        NON-CRIMINAL|       LOST PASSPORT|AIRPORT TERMINAL ...| false|   false|1653|     016|  41|            76|      26|     1101811|     1934419|2015|02/10/2018 03:50:...|41.976762981|-87.900983721|(41.976762981, -8...|\n",
      "|10221247|   HY406742|2015-09-01 22:00:00| 031XX W HARRISON ST|5114|      NON - CRIMINAL|   FOID - REVOCATION|POLICE FACILITY/V...| false|   false|1134|     011|  24|            27|      26|     1155457|     1897193|2015|02/10/2018 03:50:...|41.873699424|-87.704705156|(41.873699424, -8...|\n",
      "|10336794|   HY527983|2015-10-26 14:00:00|    006XX N STATE ST|5093|        NON-CRIMINAL|       LOST PASSPORT|               OTHER| false|   false|1832|     018|  42|             8|      26|     1176262|     1904268|2015|02/10/2018 03:50:...|  41.8926701|-87.628106353|(41.8926701, -87....|\n",
      "|10344075|   HY535016|2015-12-12 20:50:00|     025XX W 80TH PL|5114|      NON - CRIMINAL|   FOID - REVOCATION|VEHICLE NON-COMME...| false|   false|0835|     008|  18|            70|      26|     1160683|     1851174|2015|02/10/2018 03:50:...|41.747310961| -87.68678891|(41.747310961, -8...|\n",
      "|10351482|   HY541941|2015-12-13 08:30:00|    100XX W OHARE ST|5093|        NON-CRIMINAL|       LOST PASSPORT|AIRPORT TERMINAL ...| false|   false|1651|     016|  41|            76|      26|     1100658|     1934241|2015|02/10/2018 03:50:...|41.976290414|-87.905227221|(41.976290414, -8...|\n",
      "|10371674|   HZ107512|2016-01-07 17:36:00|051XX S WENTWORTH...|5073|NON-CRIMINAL (SUB...|NOTIFICATION OF C...|JAIL / LOCK-UP FA...| false|    true|0225|     002|   3|            37|      26|     1175826|     1871120|2016|02/10/2018 03:50:...| 41.80171934|-87.630703621|(41.80171934, -87...|\n",
      "|10396040|   HZ131825|2016-01-04 18:00:00|  008XX W ADDISON ST|5114|        NON-CRIMINAL|   FOID - REVOCATION|HOSPITAL BUILDING...| false|   false|1923|     019|  44|             6|      26|     1169826|     1924123|2016|02/10/2018 03:50:...|41.947295978|-87.651162974|(41.947295978, -8...|\n",
      "|10397129|   HZ133234|2016-01-29 15:30:00| 006XX W HARRISON ST|5114|      NON - CRIMINAL|   FOID - REVOCATION|              STREET| false|   false|0124|     001|   2|            28|      26|     1172257|     1897564|2016|02/10/2018 03:50:...|41.874363279|-87.643013039|(41.874363279, -8...|\n",
      "|10401279|   HZ137710|2016-02-02 07:00:00| 068XX S CRANDON AVE|5114|      NON - CRIMINAL|   FOID - REVOCATION|           APARTMENT| false|   false|0331|     003|   5|            43|      26|     1192506|     1859959|2016|02/10/2018 03:50:...|41.770702367|-87.569896036|(41.770702367, -8...|\n",
      "|10405784|   HZ142394|2016-02-06 11:20:00|031XX W FRANKLIN ...|5114|      NON - CRIMINAL|   FOID - REVOCATION|              STREET|  true|   false|1221|     012|  27|            23|      26|     1155334|     1903164|2016|02/10/2018 03:50:...|41.890086914|-87.704996246|(41.890086914, -8...|\n",
      "|10407502|   HZ143549|2016-02-07 11:00:00|    100XX W OHARE ST|5093|        NON-CRIMINAL|       LOST PASSPORT|            AIRCRAFT| false|   false|1651|     016|  41|            76|      26|     1100658|     1934241|2016|02/10/2018 03:50:...|41.976290414|-87.905227221|(41.976290414, -8...|\n",
      "|10410240|   HZ146595|2016-02-10 09:07:00|045XX W CONGRESS ...|5114|      NON - CRIMINAL|   FOID - REVOCATION|           RESIDENCE| false|   false|1131|     011|  24|            26|      26|     1146319|     1897308|2016|02/10/2018 03:50:...|41.874193745|-87.738252825|(41.874193745, -8...|\n",
      "|10412587|   HZ149851|2016-02-13 00:11:00|  031XX S HALSTED ST|5114|      NON - CRIMINAL|   FOID - REVOCATION|POLICE FACILITY/V...|  true|   false|0913|     009|  11|            60|      26|     1171479|     1884120|2016|02/10/2018 03:50:...|41.837489008|-87.646264459|(41.837489008, -8...|\n",
      "|10417135|   HZ155024|2016-02-17 16:02:00|   028XX W CERMAK RD|5114|        NON-CRIMINAL|   FOID - REVOCATION|              STREET|  true|   false|1033|     010|  12|            30|      26|     1157790|     1889263|2016|02/10/2018 03:50:...|41.851891472|-87.696355505|(41.851891472, -8...|\n",
      "|10422489|   HZ160886|2016-02-12 12:00:00|  029XX S NORMAL AVE|5093|        NON-CRIMINAL|       LOST PASSPORT|               OTHER| false|   false|0914|     009|  11|            60|      26|     1173433|     1885534|2016|02/10/2018 03:50:...|41.841326028|-87.639052486|(41.841326028, -8...|\n",
      "|10433951|   HZ171487|2016-03-02 08:30:00|035XX S MICHIGAN AVE|5114|        NON-CRIMINAL|   FOID - REVOCATION|GOVERNMENT BUILDI...| false|   false|0213|     002|   3|            35|      26|     1177772|     1881665|2016|02/10/2018 03:50:...|41.830611847|-87.623247369|(41.830611847, -8...|\n",
      "+--------+-----------+-------------------+--------------------+----+--------------------+--------------------+--------------------+------+--------+----+--------+----+--------------+--------+------------+------------+----+--------------------+------------+-------------+--------------------+\n",
      "only showing top 30 rows\n",
      "\n"
     ]
    }
   ],
   "source": [
    "rc_noncrim = (\n",
    "    rc.filter((col('Primary Type') == 'NON-CRIMINAL') | \n",
    "              (col('Primary Type') == 'NON - CRIMINAL') | \n",
    "              (col('Primary Type') == 'NON-CRIMINAL (SUBJECT SPECIFIED)'))\n",
    "             )\n",
    "rc_noncrim.show(30)"
   ]
  },
  {
   "cell_type": "code",
   "execution_count": 40,
   "id": "aeb077ac-04fd-48d4-8333-7dfa16be969c",
   "metadata": {},
   "outputs": [
    {
     "name": "stdout",
     "output_type": "stream",
     "text": [
      "+-------------------------------------------+-----+\n",
      "|Description                                |count|\n",
      "+-------------------------------------------+-----+\n",
      "|LOST PASSPORT                              |28   |\n",
      "|FOID - REVOCATION                          |24   |\n",
      "|NOTIFICATION OF STALKING - NO CONTACT ORDER|2    |\n",
      "|NOTIFICATION OF CIVIL NO CONTACT ORDER     |2    |\n",
      "|FOUND PASSPORT                             |1    |\n",
      "+-------------------------------------------+-----+\n",
      "\n"
     ]
    }
   ],
   "source": [
    "(\n",
    "    rc_noncrim\n",
    "    .groupBy('Description')\n",
    "    .count()\n",
    "    .orderBy('count',ascending=False)\n",
    "    .show(10,truncate=False)\n",
    ")"
   ]
  },
  {
   "cell_type": "markdown",
   "id": "a2e9fd54-9259-4053-82ed-5912e8cf86b1",
   "metadata": {},
   "source": [
    "### **Objective 2**"
   ]
  },
  {
   "cell_type": "code",
   "execution_count": 47,
   "id": "dbc6dfdf-d6b9-4759-9c7d-d2bc193130c9",
   "metadata": {},
   "outputs": [
    {
     "name": "stdout",
     "output_type": "stream",
     "text": [
      "+-----------+-----+\n",
      "|day_of_week|count|\n",
      "+-----------+-----+\n",
      "|Friday     |48959|\n",
      "|Saturday   |47424|\n",
      "|Thursday   |46988|\n",
      "|Monday     |46981|\n",
      "|Wednesday  |45984|\n",
      "|Sunday     |45716|\n",
      "|Tuesday    |45375|\n",
      "+-----------+-----+\n",
      "\n"
     ]
    }
   ],
   "source": [
    "cr_on_week = (\n",
    "    rc\n",
    "    .withColumn('day_of_week', date_format(col(\"Date\"), \"EEEE\"))\n",
    "    .groupBy('day_of_week')\n",
    "    .count()\n",
    "    .orderBy('count',ascending=False)\n",
    ")\n",
    "cr_on_week.show(truncate=False)"
   ]
  },
  {
   "cell_type": "code",
   "execution_count": 49,
   "id": "5bb517f1-5318-450d-a59e-4a8dd9264059",
   "metadata": {},
   "outputs": [
    {
     "data": {
      "text/html": [
       "<div>\n",
       "<style scoped>\n",
       "    .dataframe tbody tr th:only-of-type {\n",
       "        vertical-align: middle;\n",
       "    }\n",
       "\n",
       "    .dataframe tbody tr th {\n",
       "        vertical-align: top;\n",
       "    }\n",
       "\n",
       "    .dataframe thead th {\n",
       "        text-align: right;\n",
       "    }\n",
       "</style>\n",
       "<table border=\"1\" class=\"dataframe\">\n",
       "  <thead>\n",
       "    <tr style=\"text-align: right;\">\n",
       "      <th></th>\n",
       "      <th>day_of_week</th>\n",
       "      <th>count</th>\n",
       "    </tr>\n",
       "  </thead>\n",
       "  <tbody>\n",
       "    <tr>\n",
       "      <th>0</th>\n",
       "      <td>Friday</td>\n",
       "      <td>48959</td>\n",
       "    </tr>\n",
       "    <tr>\n",
       "      <th>1</th>\n",
       "      <td>Saturday</td>\n",
       "      <td>47424</td>\n",
       "    </tr>\n",
       "    <tr>\n",
       "      <th>2</th>\n",
       "      <td>Thursday</td>\n",
       "      <td>46988</td>\n",
       "    </tr>\n",
       "    <tr>\n",
       "      <th>3</th>\n",
       "      <td>Monday</td>\n",
       "      <td>46981</td>\n",
       "    </tr>\n",
       "    <tr>\n",
       "      <th>4</th>\n",
       "      <td>Wednesday</td>\n",
       "      <td>45984</td>\n",
       "    </tr>\n",
       "  </tbody>\n",
       "</table>\n",
       "</div>"
      ],
      "text/plain": [
       "  day_of_week  count\n",
       "0      Friday  48959\n",
       "1    Saturday  47424\n",
       "2    Thursday  46988\n",
       "3      Monday  46981\n",
       "4   Wednesday  45984"
      ]
     },
     "execution_count": 49,
     "metadata": {},
     "output_type": "execute_result"
    }
   ],
   "source": [
    "#import pandas as pd\n",
    "\n",
    "df = cr_on_week.toPandas()\n",
    "df.head()"
   ]
  },
  {
   "cell_type": "code",
   "execution_count": 56,
   "id": "774633b3-5e17-47a7-8933-b87e7eb2dd63",
   "metadata": {},
   "outputs": [
    {
     "data": {
      "text/plain": [
       "Text(0.5, 1.0, 'No. of reported crimes per day of week')"
      ]
     },
     "execution_count": 56,
     "metadata": {},
     "output_type": "execute_result"
    },
    {
     "data": {
      "image/png": "[encoded data removed]",
      "text/plain": [
       "<Figure size 640x480 with 1 Axes>"
      ]
     },
     "metadata": {},
     "output_type": "display_data"
    }
   ],
   "source": [
    "import matplotlib.pyplot as plt\n",
    "\n",
    "df.plot(kind='bar',color='olive',x='day_of_week',y='count',grid=True)\n",
    "plt.xlabel('Day of the Week')\n",
    "plt.ylabel('No. of reported crimes')\n",
    "plt.title('No. of reported crimes per day of week')"
   ]
  }
 ],
 "metadata": {
  "kernelspec": {
   "display_name": "Python 3 (ipykernel)",
   "language": "python",
   "name": "python3"
  },
  "language_info": {
   "codemirror_mode": {
    "name": "ipython",
    "version": 3
   },
   "file_extension": ".py",
   "mimetype": "text/x-python",
   "name": "python",
   "nbconvert_exporter": "python",
   "pygments_lexer": "ipython3",
   "version": "3.10.6"
  }
 },
 "nbformat": 4,
 "nbformat_minor": 5
}
